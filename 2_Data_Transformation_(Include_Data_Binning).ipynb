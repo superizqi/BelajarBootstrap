{
  "nbformat": 4,
  "nbformat_minor": 0,
  "metadata": {
    "colab": {
      "name": "2. Data Transformation (Include Data Binning).ipynb",
      "provenance": [],
      "authorship_tag": "ABX9TyMg1oO7Fq3R+o7yYq+a65/t",
      "include_colab_link": true
    },
    "kernelspec": {
      "name": "python3",
      "display_name": "Python 3"
    }
  },
  "cells": [
    {
      "cell_type": "markdown",
      "metadata": {
        "id": "view-in-github",
        "colab_type": "text"
      },
      "source": [
        "<a href=\"https://colab.research.google.com/github/superizqi/BelajarBootstrap/blob/master/2_Data_Transformation_(Include_Data_Binning).ipynb\" target=\"_parent\"><img src=\"https://colab.research.google.com/assets/colab-badge.svg\" alt=\"Open In Colab\"/></a>"
      ]
    },
    {
      "cell_type": "code",
      "metadata": {
        "id": "IAGXmUjlU4mz",
        "colab_type": "code",
        "outputId": "a7a30615-6a0f-41af-80c0-a30c01ede686",
        "colab": {
          "resources": {
            "http://localhost:8080/nbextensions/google.colab/files.js": {
              "data": "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",
              "ok": true,
              "headers": [
                [
                  "content-type",
                  "application/javascript"
                ]
              ],
              "status": 200,
              "status_text": "OK"
            }
          },
          "base_uri": "https://localhost:8080/",
          "height": 41
        }
      },
      "source": [
        "import pandas as pd\n",
        "import matplotlib.pyplot as plt\n",
        "import numpy as np\n",
        "import io\n",
        "\n",
        "from sklearn import preprocessing\n",
        "\n",
        "#Uploading file\n",
        "from pydrive.auth import GoogleAuth \n",
        "from pydrive.drive import GoogleDrive\n",
        "from google.colab import files\n",
        "uploaded = files.upload()"
      ],
      "execution_count": 0,
      "outputs": [
        {
          "output_type": "display_data",
          "data": {
            "text/html": [
              "\n",
              "     <input type=\"file\" id=\"files-d862beff-deeb-498d-861f-4f648c9a055e\" name=\"files[]\" multiple disabled />\n",
              "     <output id=\"result-d862beff-deeb-498d-861f-4f648c9a055e\">\n",
              "      Upload widget is only available when the cell has been executed in the\n",
              "      current browser session. Please rerun this cell to enable.\n",
              "      </output>\n",
              "      <script src=\"/nbextensions/google.colab/files.js\"></script> "
            ],
            "text/plain": [
              "<IPython.core.display.HTML object>"
            ]
          },
          "metadata": {
            "tags": []
          }
        }
      ]
    },
    {
      "cell_type": "code",
      "metadata": {
        "id": "UCJlEQYNVD-u",
        "colab_type": "code",
        "outputId": "772a4c9d-9e1e-4e5d-dde6-866affd7d9f1",
        "colab": {
          "base_uri": "https://localhost:8080/",
          "height": 206
        }
      },
      "source": [
        "# Baca File \n",
        "namafile = '[Hasil Integration] Ads_Performance_Instan Noodle_Food (All).xlsx'\n",
        "datall = pd.read_excel(namafile)\n",
        "datall = datall.drop(['Unnamed: 0','No'],axis=1)\n",
        "#Lihat data\n",
        "datall.head()"
      ],
      "execution_count": 0,
      "outputs": [
        {
          "output_type": "execute_result",
          "data": {
            "text/html": [
              "<div>\n",
              "<style scoped>\n",
              "    .dataframe tbody tr th:only-of-type {\n",
              "        vertical-align: middle;\n",
              "    }\n",
              "\n",
              "    .dataframe tbody tr th {\n",
              "        vertical-align: top;\n",
              "    }\n",
              "\n",
              "    .dataframe thead th {\n",
              "        text-align: right;\n",
              "    }\n",
              "</style>\n",
              "<table border=\"1\" class=\"dataframe\">\n",
              "  <thead>\n",
              "    <tr style=\"text-align: right;\">\n",
              "      <th></th>\n",
              "      <th>Date</th>\n",
              "      <th>Channel</th>\n",
              "      <th>Program</th>\n",
              "      <th>Product</th>\n",
              "      <th>Ads Type</th>\n",
              "      <th>Start Time</th>\n",
              "      <th>Duration</th>\n",
              "      <th>Cost</th>\n",
              "      <th>TVR</th>\n",
              "    </tr>\n",
              "  </thead>\n",
              "  <tbody>\n",
              "    <tr>\n",
              "      <th>0</th>\n",
              "      <td>2019-01-10 00:00:00</td>\n",
              "      <td>ANTV</td>\n",
              "      <td>ISHQ MEIN MARJAWAN</td>\n",
              "      <td>POP MIE - INSTANT NOODLE</td>\n",
              "      <td>TEMPLATE</td>\n",
              "      <td>13:12:48</td>\n",
              "      <td>00:00:11</td>\n",
              "      <td>36000.0</td>\n",
              "      <td>1.70</td>\n",
              "    </tr>\n",
              "    <tr>\n",
              "      <th>1</th>\n",
              "      <td>2019-01-10 00:00:00</td>\n",
              "      <td>ANTV</td>\n",
              "      <td>ISHQ MEIN MARJAWAN</td>\n",
              "      <td>POP MIE - INSTANT NOODLE</td>\n",
              "      <td>VIRTUAL ADS</td>\n",
              "      <td>13:12:49</td>\n",
              "      <td>00:00:08</td>\n",
              "      <td>25159.0</td>\n",
              "      <td>1.70</td>\n",
              "    </tr>\n",
              "    <tr>\n",
              "      <th>2</th>\n",
              "      <td>2019-01-10 00:00:00</td>\n",
              "      <td>MNCTV</td>\n",
              "      <td>UPIN &amp; IPIN BERMULA</td>\n",
              "      <td>SUPER BUBUR - INSTANT PORRIDGE</td>\n",
              "      <td>SQUEEZE FRAME</td>\n",
              "      <td>18:38:41</td>\n",
              "      <td>00:00:24</td>\n",
              "      <td>63000.0</td>\n",
              "      <td>1.70</td>\n",
              "    </tr>\n",
              "    <tr>\n",
              "      <th>3</th>\n",
              "      <td>2019-01-10 00:00:00</td>\n",
              "      <td>MNCTV</td>\n",
              "      <td>FATIH DI KAMPUNG JAWARA 2</td>\n",
              "      <td>MIGELAS JUMBO - INSTANT NOODLE</td>\n",
              "      <td>BUILT IN SEGMEN</td>\n",
              "      <td>20:14:43</td>\n",
              "      <td>00:02:30</td>\n",
              "      <td>325000.0</td>\n",
              "      <td>1.15</td>\n",
              "    </tr>\n",
              "    <tr>\n",
              "      <th>4</th>\n",
              "      <td>2019-01-10 00:00:00</td>\n",
              "      <td>RCTI</td>\n",
              "      <td>OGAH RUGI</td>\n",
              "      <td>POP MIE - INSTANT NOODLE</td>\n",
              "      <td>VIRTUAL ADS</td>\n",
              "      <td>15:14:21</td>\n",
              "      <td>00:00:15</td>\n",
              "      <td>48000.0</td>\n",
              "      <td>1.40</td>\n",
              "    </tr>\n",
              "  </tbody>\n",
              "</table>\n",
              "</div>"
            ],
            "text/plain": [
              "                  Date Channel  ...      Cost   TVR\n",
              "0  2019-01-10 00:00:00    ANTV  ...   36000.0  1.70\n",
              "1  2019-01-10 00:00:00    ANTV  ...   25159.0  1.70\n",
              "2  2019-01-10 00:00:00   MNCTV  ...   63000.0  1.70\n",
              "3  2019-01-10 00:00:00   MNCTV  ...  325000.0  1.15\n",
              "4  2019-01-10 00:00:00    RCTI  ...   48000.0  1.40\n",
              "\n",
              "[5 rows x 9 columns]"
            ]
          },
          "metadata": {
            "tags": []
          },
          "execution_count": 2
        }
      ]
    },
    {
      "cell_type": "code",
      "metadata": {
        "id": "tWjBjNHVMMNO",
        "colab_type": "code",
        "outputId": "c55d6a37-4650-494b-b26a-5e37bb7a70bd",
        "colab": {
          "base_uri": "https://localhost:8080/",
          "height": 206
        }
      },
      "source": [
        "# Hapus 00:00:00 pada date\n",
        "hapus_nol = []\n",
        "for d in datall['Date']:\n",
        "  hapus_nol.append(str(d)[:10])\n",
        "\n",
        "datall['Date'] = hapus_nol\n",
        "\n",
        "datall.head()"
      ],
      "execution_count": 0,
      "outputs": [
        {
          "output_type": "execute_result",
          "data": {
            "text/html": [
              "<div>\n",
              "<style scoped>\n",
              "    .dataframe tbody tr th:only-of-type {\n",
              "        vertical-align: middle;\n",
              "    }\n",
              "\n",
              "    .dataframe tbody tr th {\n",
              "        vertical-align: top;\n",
              "    }\n",
              "\n",
              "    .dataframe thead th {\n",
              "        text-align: right;\n",
              "    }\n",
              "</style>\n",
              "<table border=\"1\" class=\"dataframe\">\n",
              "  <thead>\n",
              "    <tr style=\"text-align: right;\">\n",
              "      <th></th>\n",
              "      <th>Date</th>\n",
              "      <th>Channel</th>\n",
              "      <th>Program</th>\n",
              "      <th>Product</th>\n",
              "      <th>Ads Type</th>\n",
              "      <th>Start Time</th>\n",
              "      <th>Duration</th>\n",
              "      <th>Cost</th>\n",
              "      <th>TVR</th>\n",
              "    </tr>\n",
              "  </thead>\n",
              "  <tbody>\n",
              "    <tr>\n",
              "      <th>0</th>\n",
              "      <td>2019-01-10</td>\n",
              "      <td>ANTV</td>\n",
              "      <td>ISHQ MEIN MARJAWAN</td>\n",
              "      <td>POP MIE - INSTANT NOODLE</td>\n",
              "      <td>TEMPLATE</td>\n",
              "      <td>13:12:48</td>\n",
              "      <td>00:00:11</td>\n",
              "      <td>36000.0</td>\n",
              "      <td>1.70</td>\n",
              "    </tr>\n",
              "    <tr>\n",
              "      <th>1</th>\n",
              "      <td>2019-01-10</td>\n",
              "      <td>ANTV</td>\n",
              "      <td>ISHQ MEIN MARJAWAN</td>\n",
              "      <td>POP MIE - INSTANT NOODLE</td>\n",
              "      <td>VIRTUAL ADS</td>\n",
              "      <td>13:12:49</td>\n",
              "      <td>00:00:08</td>\n",
              "      <td>25159.0</td>\n",
              "      <td>1.70</td>\n",
              "    </tr>\n",
              "    <tr>\n",
              "      <th>2</th>\n",
              "      <td>2019-01-10</td>\n",
              "      <td>MNCTV</td>\n",
              "      <td>UPIN &amp; IPIN BERMULA</td>\n",
              "      <td>SUPER BUBUR - INSTANT PORRIDGE</td>\n",
              "      <td>SQUEEZE FRAME</td>\n",
              "      <td>18:38:41</td>\n",
              "      <td>00:00:24</td>\n",
              "      <td>63000.0</td>\n",
              "      <td>1.70</td>\n",
              "    </tr>\n",
              "    <tr>\n",
              "      <th>3</th>\n",
              "      <td>2019-01-10</td>\n",
              "      <td>MNCTV</td>\n",
              "      <td>FATIH DI KAMPUNG JAWARA 2</td>\n",
              "      <td>MIGELAS JUMBO - INSTANT NOODLE</td>\n",
              "      <td>BUILT IN SEGMEN</td>\n",
              "      <td>20:14:43</td>\n",
              "      <td>00:02:30</td>\n",
              "      <td>325000.0</td>\n",
              "      <td>1.15</td>\n",
              "    </tr>\n",
              "    <tr>\n",
              "      <th>4</th>\n",
              "      <td>2019-01-10</td>\n",
              "      <td>RCTI</td>\n",
              "      <td>OGAH RUGI</td>\n",
              "      <td>POP MIE - INSTANT NOODLE</td>\n",
              "      <td>VIRTUAL ADS</td>\n",
              "      <td>15:14:21</td>\n",
              "      <td>00:00:15</td>\n",
              "      <td>48000.0</td>\n",
              "      <td>1.40</td>\n",
              "    </tr>\n",
              "  </tbody>\n",
              "</table>\n",
              "</div>"
            ],
            "text/plain": [
              "         Date Channel                    Program  ...  Duration      Cost   TVR\n",
              "0  2019-01-10    ANTV         ISHQ MEIN MARJAWAN  ...  00:00:11   36000.0  1.70\n",
              "1  2019-01-10    ANTV         ISHQ MEIN MARJAWAN  ...  00:00:08   25159.0  1.70\n",
              "2  2019-01-10   MNCTV        UPIN & IPIN BERMULA  ...  00:00:24   63000.0  1.70\n",
              "3  2019-01-10   MNCTV  FATIH DI KAMPUNG JAWARA 2  ...  00:02:30  325000.0  1.15\n",
              "4  2019-01-10    RCTI                  OGAH RUGI  ...  00:00:15   48000.0  1.40\n",
              "\n",
              "[5 rows x 9 columns]"
            ]
          },
          "metadata": {
            "tags": []
          },
          "execution_count": 4
        }
      ]
    },
    {
      "cell_type": "code",
      "metadata": {
        "id": "uUjo-hBsVXps",
        "colab_type": "code",
        "outputId": "a6bf4a6f-d5f1-4c68-f0a0-b5cc2bc74db9",
        "cellView": "code",
        "colab": {
          "base_uri": "https://localhost:8080/",
          "height": 206
        }
      },
      "source": [
        "#@title Default title text\n",
        "#Mengubah dan menyelaraskan format Date menjadi Day\n",
        "import datetime \n",
        "import calendar \n",
        "day_name = []\n",
        "\n",
        "def findDay(date): \n",
        "    born = datetime.datetime.strptime(date, '%Y-%m-%d').weekday() \n",
        "    return (calendar.day_name[born]) \n",
        "\n",
        "for i in datall['Date']:\n",
        "  if  \"/\" in i:\n",
        "    date_split = i.split('/')\n",
        "    date = str(date_split[0])\n",
        "    month = str(date_split[1])\n",
        "    year = str(date_split[2])\n",
        "    hasilsplit = year+'-'+month+'-'+date\n",
        "    hasilconvert =  calendar.day_name[datetime.datetime.strptime(hasilsplit, '%Y-%m-%d').weekday()]\n",
        "    day_name.append(str(hasilconvert))\n",
        "  else:\n",
        "    hasilconvert =  calendar.day_name[datetime.datetime.strptime(i, '%Y-%m-%d').weekday()]\n",
        "    day_name.append(str(hasilconvert))\n",
        "\n",
        "datall['Date (Day)'] = day_name\n",
        "datall.head()"
      ],
      "execution_count": 0,
      "outputs": [
        {
          "output_type": "execute_result",
          "data": {
            "text/html": [
              "<div>\n",
              "<style scoped>\n",
              "    .dataframe tbody tr th:only-of-type {\n",
              "        vertical-align: middle;\n",
              "    }\n",
              "\n",
              "    .dataframe tbody tr th {\n",
              "        vertical-align: top;\n",
              "    }\n",
              "\n",
              "    .dataframe thead th {\n",
              "        text-align: right;\n",
              "    }\n",
              "</style>\n",
              "<table border=\"1\" class=\"dataframe\">\n",
              "  <thead>\n",
              "    <tr style=\"text-align: right;\">\n",
              "      <th></th>\n",
              "      <th>Date</th>\n",
              "      <th>Channel</th>\n",
              "      <th>Program</th>\n",
              "      <th>Product</th>\n",
              "      <th>Ads Type</th>\n",
              "      <th>Start Time</th>\n",
              "      <th>Duration</th>\n",
              "      <th>Cost</th>\n",
              "      <th>TVR</th>\n",
              "      <th>Date (Day)</th>\n",
              "    </tr>\n",
              "  </thead>\n",
              "  <tbody>\n",
              "    <tr>\n",
              "      <th>0</th>\n",
              "      <td>2019-01-10</td>\n",
              "      <td>ANTV</td>\n",
              "      <td>ISHQ MEIN MARJAWAN</td>\n",
              "      <td>POP MIE - INSTANT NOODLE</td>\n",
              "      <td>TEMPLATE</td>\n",
              "      <td>13:12:48</td>\n",
              "      <td>00:00:11</td>\n",
              "      <td>36000.0</td>\n",
              "      <td>1.70</td>\n",
              "      <td>Thursday</td>\n",
              "    </tr>\n",
              "    <tr>\n",
              "      <th>1</th>\n",
              "      <td>2019-01-10</td>\n",
              "      <td>ANTV</td>\n",
              "      <td>ISHQ MEIN MARJAWAN</td>\n",
              "      <td>POP MIE - INSTANT NOODLE</td>\n",
              "      <td>VIRTUAL ADS</td>\n",
              "      <td>13:12:49</td>\n",
              "      <td>00:00:08</td>\n",
              "      <td>25159.0</td>\n",
              "      <td>1.70</td>\n",
              "      <td>Thursday</td>\n",
              "    </tr>\n",
              "    <tr>\n",
              "      <th>2</th>\n",
              "      <td>2019-01-10</td>\n",
              "      <td>MNCTV</td>\n",
              "      <td>UPIN &amp; IPIN BERMULA</td>\n",
              "      <td>SUPER BUBUR - INSTANT PORRIDGE</td>\n",
              "      <td>SQUEEZE FRAME</td>\n",
              "      <td>18:38:41</td>\n",
              "      <td>00:00:24</td>\n",
              "      <td>63000.0</td>\n",
              "      <td>1.70</td>\n",
              "      <td>Thursday</td>\n",
              "    </tr>\n",
              "    <tr>\n",
              "      <th>3</th>\n",
              "      <td>2019-01-10</td>\n",
              "      <td>MNCTV</td>\n",
              "      <td>FATIH DI KAMPUNG JAWARA 2</td>\n",
              "      <td>MIGELAS JUMBO - INSTANT NOODLE</td>\n",
              "      <td>BUILT IN SEGMEN</td>\n",
              "      <td>20:14:43</td>\n",
              "      <td>00:02:30</td>\n",
              "      <td>325000.0</td>\n",
              "      <td>1.15</td>\n",
              "      <td>Thursday</td>\n",
              "    </tr>\n",
              "    <tr>\n",
              "      <th>4</th>\n",
              "      <td>2019-01-10</td>\n",
              "      <td>RCTI</td>\n",
              "      <td>OGAH RUGI</td>\n",
              "      <td>POP MIE - INSTANT NOODLE</td>\n",
              "      <td>VIRTUAL ADS</td>\n",
              "      <td>15:14:21</td>\n",
              "      <td>00:00:15</td>\n",
              "      <td>48000.0</td>\n",
              "      <td>1.40</td>\n",
              "      <td>Thursday</td>\n",
              "    </tr>\n",
              "  </tbody>\n",
              "</table>\n",
              "</div>"
            ],
            "text/plain": [
              "         Date Channel                    Program  ...      Cost   TVR Date (Day)\n",
              "0  2019-01-10    ANTV         ISHQ MEIN MARJAWAN  ...   36000.0  1.70   Thursday\n",
              "1  2019-01-10    ANTV         ISHQ MEIN MARJAWAN  ...   25159.0  1.70   Thursday\n",
              "2  2019-01-10   MNCTV        UPIN & IPIN BERMULA  ...   63000.0  1.70   Thursday\n",
              "3  2019-01-10   MNCTV  FATIH DI KAMPUNG JAWARA 2  ...  325000.0  1.15   Thursday\n",
              "4  2019-01-10    RCTI                  OGAH RUGI  ...   48000.0  1.40   Thursday\n",
              "\n",
              "[5 rows x 10 columns]"
            ]
          },
          "metadata": {
            "tags": []
          },
          "execution_count": 5
        }
      ]
    },
    {
      "cell_type": "code",
      "metadata": {
        "id": "CXKeuX_pZU30",
        "colab_type": "code",
        "outputId": "82bf6a95-ba6a-488d-9969-e56c18a575d2",
        "colab": {
          "base_uri": "https://localhost:8080/",
          "height": 258
        }
      },
      "source": [
        "# Tambah kolom Start Time (hour) \n",
        "start_time_hour = []\n",
        "\n",
        "for d in datall['Start Time']:\n",
        "  start_time_hour.append(str(d)[:2])\n",
        "\n",
        "datall['Start Time (hour)'] = start_time_hour\n",
        "datall.head()"
      ],
      "execution_count": 0,
      "outputs": [
        {
          "output_type": "execute_result",
          "data": {
            "text/html": [
              "<div>\n",
              "<style scoped>\n",
              "    .dataframe tbody tr th:only-of-type {\n",
              "        vertical-align: middle;\n",
              "    }\n",
              "\n",
              "    .dataframe tbody tr th {\n",
              "        vertical-align: top;\n",
              "    }\n",
              "\n",
              "    .dataframe thead th {\n",
              "        text-align: right;\n",
              "    }\n",
              "</style>\n",
              "<table border=\"1\" class=\"dataframe\">\n",
              "  <thead>\n",
              "    <tr style=\"text-align: right;\">\n",
              "      <th></th>\n",
              "      <th>Date</th>\n",
              "      <th>Channel</th>\n",
              "      <th>Program</th>\n",
              "      <th>Product</th>\n",
              "      <th>Ads Type</th>\n",
              "      <th>Start Time</th>\n",
              "      <th>Duration</th>\n",
              "      <th>Cost</th>\n",
              "      <th>TVR</th>\n",
              "      <th>Date (Day)</th>\n",
              "      <th>Start Time (hour)</th>\n",
              "    </tr>\n",
              "  </thead>\n",
              "  <tbody>\n",
              "    <tr>\n",
              "      <th>0</th>\n",
              "      <td>2019-01-10</td>\n",
              "      <td>ANTV</td>\n",
              "      <td>ISHQ MEIN MARJAWAN</td>\n",
              "      <td>POP MIE - INSTANT NOODLE</td>\n",
              "      <td>TEMPLATE</td>\n",
              "      <td>13:12:48</td>\n",
              "      <td>00:00:11</td>\n",
              "      <td>36000.0</td>\n",
              "      <td>1.70</td>\n",
              "      <td>Thursday</td>\n",
              "      <td>13</td>\n",
              "    </tr>\n",
              "    <tr>\n",
              "      <th>1</th>\n",
              "      <td>2019-01-10</td>\n",
              "      <td>ANTV</td>\n",
              "      <td>ISHQ MEIN MARJAWAN</td>\n",
              "      <td>POP MIE - INSTANT NOODLE</td>\n",
              "      <td>VIRTUAL ADS</td>\n",
              "      <td>13:12:49</td>\n",
              "      <td>00:00:08</td>\n",
              "      <td>25159.0</td>\n",
              "      <td>1.70</td>\n",
              "      <td>Thursday</td>\n",
              "      <td>13</td>\n",
              "    </tr>\n",
              "    <tr>\n",
              "      <th>2</th>\n",
              "      <td>2019-01-10</td>\n",
              "      <td>MNCTV</td>\n",
              "      <td>UPIN &amp; IPIN BERMULA</td>\n",
              "      <td>SUPER BUBUR - INSTANT PORRIDGE</td>\n",
              "      <td>SQUEEZE FRAME</td>\n",
              "      <td>18:38:41</td>\n",
              "      <td>00:00:24</td>\n",
              "      <td>63000.0</td>\n",
              "      <td>1.70</td>\n",
              "      <td>Thursday</td>\n",
              "      <td>18</td>\n",
              "    </tr>\n",
              "    <tr>\n",
              "      <th>3</th>\n",
              "      <td>2019-01-10</td>\n",
              "      <td>MNCTV</td>\n",
              "      <td>FATIH DI KAMPUNG JAWARA 2</td>\n",
              "      <td>MIGELAS JUMBO - INSTANT NOODLE</td>\n",
              "      <td>BUILT IN SEGMEN</td>\n",
              "      <td>20:14:43</td>\n",
              "      <td>00:02:30</td>\n",
              "      <td>325000.0</td>\n",
              "      <td>1.15</td>\n",
              "      <td>Thursday</td>\n",
              "      <td>20</td>\n",
              "    </tr>\n",
              "    <tr>\n",
              "      <th>4</th>\n",
              "      <td>2019-01-10</td>\n",
              "      <td>RCTI</td>\n",
              "      <td>OGAH RUGI</td>\n",
              "      <td>POP MIE - INSTANT NOODLE</td>\n",
              "      <td>VIRTUAL ADS</td>\n",
              "      <td>15:14:21</td>\n",
              "      <td>00:00:15</td>\n",
              "      <td>48000.0</td>\n",
              "      <td>1.40</td>\n",
              "      <td>Thursday</td>\n",
              "      <td>15</td>\n",
              "    </tr>\n",
              "  </tbody>\n",
              "</table>\n",
              "</div>"
            ],
            "text/plain": [
              "         Date Channel  ... Date (Day) Start Time (hour)\n",
              "0  2019-01-10    ANTV  ...   Thursday                13\n",
              "1  2019-01-10    ANTV  ...   Thursday                13\n",
              "2  2019-01-10   MNCTV  ...   Thursday                18\n",
              "3  2019-01-10   MNCTV  ...   Thursday                20\n",
              "4  2019-01-10    RCTI  ...   Thursday                15\n",
              "\n",
              "[5 rows x 11 columns]"
            ]
          },
          "metadata": {
            "tags": []
          },
          "execution_count": 6
        }
      ]
    },
    {
      "cell_type": "code",
      "metadata": {
        "id": "l5FFKdCgy1dM",
        "colab_type": "code",
        "outputId": "a2f5a0f1-1688-476a-f559-90451ad8f45b",
        "colab": {
          "base_uri": "https://localhost:8080/",
          "height": 310
        }
      },
      "source": [
        "# Tambah kolom Duration (second) \n",
        "duration_second = []\n",
        "\n",
        "for d in datall['Duration']:\n",
        "  duration_split = d.split(':')\n",
        "  total_duration_second = (int(duration_split[1])*60) + int(duration_split[2])\n",
        "  duration_second.append (total_duration_second)\n",
        "\n",
        "datall['Duration (second)'] = duration_second\n",
        "datall.head()"
      ],
      "execution_count": 0,
      "outputs": [
        {
          "output_type": "execute_result",
          "data": {
            "text/html": [
              "<div>\n",
              "<style scoped>\n",
              "    .dataframe tbody tr th:only-of-type {\n",
              "        vertical-align: middle;\n",
              "    }\n",
              "\n",
              "    .dataframe tbody tr th {\n",
              "        vertical-align: top;\n",
              "    }\n",
              "\n",
              "    .dataframe thead th {\n",
              "        text-align: right;\n",
              "    }\n",
              "</style>\n",
              "<table border=\"1\" class=\"dataframe\">\n",
              "  <thead>\n",
              "    <tr style=\"text-align: right;\">\n",
              "      <th></th>\n",
              "      <th>Date</th>\n",
              "      <th>Channel</th>\n",
              "      <th>Program</th>\n",
              "      <th>Product</th>\n",
              "      <th>Ads Type</th>\n",
              "      <th>Start Time</th>\n",
              "      <th>Duration</th>\n",
              "      <th>Cost</th>\n",
              "      <th>TVR</th>\n",
              "      <th>Date (Day)</th>\n",
              "      <th>Start Time (hour)</th>\n",
              "      <th>Duration (second)</th>\n",
              "    </tr>\n",
              "  </thead>\n",
              "  <tbody>\n",
              "    <tr>\n",
              "      <th>0</th>\n",
              "      <td>2019-01-10</td>\n",
              "      <td>ANTV</td>\n",
              "      <td>ISHQ MEIN MARJAWAN</td>\n",
              "      <td>POP MIE - INSTANT NOODLE</td>\n",
              "      <td>TEMPLATE</td>\n",
              "      <td>13:12:48</td>\n",
              "      <td>00:00:11</td>\n",
              "      <td>36000.0</td>\n",
              "      <td>1.70</td>\n",
              "      <td>Thursday</td>\n",
              "      <td>13</td>\n",
              "      <td>11</td>\n",
              "    </tr>\n",
              "    <tr>\n",
              "      <th>1</th>\n",
              "      <td>2019-01-10</td>\n",
              "      <td>ANTV</td>\n",
              "      <td>ISHQ MEIN MARJAWAN</td>\n",
              "      <td>POP MIE - INSTANT NOODLE</td>\n",
              "      <td>VIRTUAL ADS</td>\n",
              "      <td>13:12:49</td>\n",
              "      <td>00:00:08</td>\n",
              "      <td>25159.0</td>\n",
              "      <td>1.70</td>\n",
              "      <td>Thursday</td>\n",
              "      <td>13</td>\n",
              "      <td>8</td>\n",
              "    </tr>\n",
              "    <tr>\n",
              "      <th>2</th>\n",
              "      <td>2019-01-10</td>\n",
              "      <td>MNCTV</td>\n",
              "      <td>UPIN &amp; IPIN BERMULA</td>\n",
              "      <td>SUPER BUBUR - INSTANT PORRIDGE</td>\n",
              "      <td>SQUEEZE FRAME</td>\n",
              "      <td>18:38:41</td>\n",
              "      <td>00:00:24</td>\n",
              "      <td>63000.0</td>\n",
              "      <td>1.70</td>\n",
              "      <td>Thursday</td>\n",
              "      <td>18</td>\n",
              "      <td>24</td>\n",
              "    </tr>\n",
              "    <tr>\n",
              "      <th>3</th>\n",
              "      <td>2019-01-10</td>\n",
              "      <td>MNCTV</td>\n",
              "      <td>FATIH DI KAMPUNG JAWARA 2</td>\n",
              "      <td>MIGELAS JUMBO - INSTANT NOODLE</td>\n",
              "      <td>BUILT IN SEGMEN</td>\n",
              "      <td>20:14:43</td>\n",
              "      <td>00:02:30</td>\n",
              "      <td>325000.0</td>\n",
              "      <td>1.15</td>\n",
              "      <td>Thursday</td>\n",
              "      <td>20</td>\n",
              "      <td>150</td>\n",
              "    </tr>\n",
              "    <tr>\n",
              "      <th>4</th>\n",
              "      <td>2019-01-10</td>\n",
              "      <td>RCTI</td>\n",
              "      <td>OGAH RUGI</td>\n",
              "      <td>POP MIE - INSTANT NOODLE</td>\n",
              "      <td>VIRTUAL ADS</td>\n",
              "      <td>15:14:21</td>\n",
              "      <td>00:00:15</td>\n",
              "      <td>48000.0</td>\n",
              "      <td>1.40</td>\n",
              "      <td>Thursday</td>\n",
              "      <td>15</td>\n",
              "      <td>15</td>\n",
              "    </tr>\n",
              "  </tbody>\n",
              "</table>\n",
              "</div>"
            ],
            "text/plain": [
              "         Date Channel  ... Start Time (hour) Duration (second)\n",
              "0  2019-01-10    ANTV  ...                13                11\n",
              "1  2019-01-10    ANTV  ...                13                 8\n",
              "2  2019-01-10   MNCTV  ...                18                24\n",
              "3  2019-01-10   MNCTV  ...                20               150\n",
              "4  2019-01-10    RCTI  ...                15                15\n",
              "\n",
              "[5 rows x 12 columns]"
            ]
          },
          "metadata": {
            "tags": []
          },
          "execution_count": 7
        }
      ]
    },
    {
      "cell_type": "code",
      "metadata": {
        "id": "oywZYJGrzSpJ",
        "colab_type": "code",
        "outputId": "abe63898-9686-40c7-a2b6-6394f4b38562",
        "colab": {
          "base_uri": "https://localhost:8080/",
          "height": 310
        }
      },
      "source": [
        "# Tambah TVR 1 Digit di belakang coma\n",
        "tvr_one_digit = []\n",
        "\n",
        "for d in datall['TVR']:\n",
        "  tvr_one_digit.append(int(round(d)))\n",
        "  \n",
        "datall['TVR (One digit)'] = tvr_one_digit\n",
        "datall.head()"
      ],
      "execution_count": 0,
      "outputs": [
        {
          "output_type": "execute_result",
          "data": {
            "text/html": [
              "<div>\n",
              "<style scoped>\n",
              "    .dataframe tbody tr th:only-of-type {\n",
              "        vertical-align: middle;\n",
              "    }\n",
              "\n",
              "    .dataframe tbody tr th {\n",
              "        vertical-align: top;\n",
              "    }\n",
              "\n",
              "    .dataframe thead th {\n",
              "        text-align: right;\n",
              "    }\n",
              "</style>\n",
              "<table border=\"1\" class=\"dataframe\">\n",
              "  <thead>\n",
              "    <tr style=\"text-align: right;\">\n",
              "      <th></th>\n",
              "      <th>Date</th>\n",
              "      <th>Channel</th>\n",
              "      <th>Program</th>\n",
              "      <th>Product</th>\n",
              "      <th>Ads Type</th>\n",
              "      <th>Start Time</th>\n",
              "      <th>Duration</th>\n",
              "      <th>Cost</th>\n",
              "      <th>TVR</th>\n",
              "      <th>Date (Day)</th>\n",
              "      <th>Start Time (hour)</th>\n",
              "      <th>Duration (second)</th>\n",
              "      <th>TVR (One digit)</th>\n",
              "    </tr>\n",
              "  </thead>\n",
              "  <tbody>\n",
              "    <tr>\n",
              "      <th>0</th>\n",
              "      <td>2019-01-10</td>\n",
              "      <td>ANTV</td>\n",
              "      <td>ISHQ MEIN MARJAWAN</td>\n",
              "      <td>POP MIE - INSTANT NOODLE</td>\n",
              "      <td>TEMPLATE</td>\n",
              "      <td>13:12:48</td>\n",
              "      <td>00:00:11</td>\n",
              "      <td>36000.0</td>\n",
              "      <td>1.70</td>\n",
              "      <td>Thursday</td>\n",
              "      <td>13</td>\n",
              "      <td>11</td>\n",
              "      <td>2</td>\n",
              "    </tr>\n",
              "    <tr>\n",
              "      <th>1</th>\n",
              "      <td>2019-01-10</td>\n",
              "      <td>ANTV</td>\n",
              "      <td>ISHQ MEIN MARJAWAN</td>\n",
              "      <td>POP MIE - INSTANT NOODLE</td>\n",
              "      <td>VIRTUAL ADS</td>\n",
              "      <td>13:12:49</td>\n",
              "      <td>00:00:08</td>\n",
              "      <td>25159.0</td>\n",
              "      <td>1.70</td>\n",
              "      <td>Thursday</td>\n",
              "      <td>13</td>\n",
              "      <td>8</td>\n",
              "      <td>2</td>\n",
              "    </tr>\n",
              "    <tr>\n",
              "      <th>2</th>\n",
              "      <td>2019-01-10</td>\n",
              "      <td>MNCTV</td>\n",
              "      <td>UPIN &amp; IPIN BERMULA</td>\n",
              "      <td>SUPER BUBUR - INSTANT PORRIDGE</td>\n",
              "      <td>SQUEEZE FRAME</td>\n",
              "      <td>18:38:41</td>\n",
              "      <td>00:00:24</td>\n",
              "      <td>63000.0</td>\n",
              "      <td>1.70</td>\n",
              "      <td>Thursday</td>\n",
              "      <td>18</td>\n",
              "      <td>24</td>\n",
              "      <td>2</td>\n",
              "    </tr>\n",
              "    <tr>\n",
              "      <th>3</th>\n",
              "      <td>2019-01-10</td>\n",
              "      <td>MNCTV</td>\n",
              "      <td>FATIH DI KAMPUNG JAWARA 2</td>\n",
              "      <td>MIGELAS JUMBO - INSTANT NOODLE</td>\n",
              "      <td>BUILT IN SEGMEN</td>\n",
              "      <td>20:14:43</td>\n",
              "      <td>00:02:30</td>\n",
              "      <td>325000.0</td>\n",
              "      <td>1.15</td>\n",
              "      <td>Thursday</td>\n",
              "      <td>20</td>\n",
              "      <td>150</td>\n",
              "      <td>1</td>\n",
              "    </tr>\n",
              "    <tr>\n",
              "      <th>4</th>\n",
              "      <td>2019-01-10</td>\n",
              "      <td>RCTI</td>\n",
              "      <td>OGAH RUGI</td>\n",
              "      <td>POP MIE - INSTANT NOODLE</td>\n",
              "      <td>VIRTUAL ADS</td>\n",
              "      <td>15:14:21</td>\n",
              "      <td>00:00:15</td>\n",
              "      <td>48000.0</td>\n",
              "      <td>1.40</td>\n",
              "      <td>Thursday</td>\n",
              "      <td>15</td>\n",
              "      <td>15</td>\n",
              "      <td>1</td>\n",
              "    </tr>\n",
              "  </tbody>\n",
              "</table>\n",
              "</div>"
            ],
            "text/plain": [
              "         Date Channel  ... Duration (second) TVR (One digit)\n",
              "0  2019-01-10    ANTV  ...                11               2\n",
              "1  2019-01-10    ANTV  ...                 8               2\n",
              "2  2019-01-10   MNCTV  ...                24               2\n",
              "3  2019-01-10   MNCTV  ...               150               1\n",
              "4  2019-01-10    RCTI  ...                15               1\n",
              "\n",
              "[5 rows x 13 columns]"
            ]
          },
          "metadata": {
            "tags": []
          },
          "execution_count": 8
        }
      ]
    },
    {
      "cell_type": "code",
      "metadata": {
        "id": "xftY5XfW6CVu",
        "colab_type": "code",
        "outputId": "2c33814e-5162-42fd-b609-b277eb8a50e0",
        "colab": {
          "base_uri": "https://localhost:8080/",
          "height": 258
        }
      },
      "source": [
        "# Cek dan hapus\n",
        "\n",
        "if  'Date' in datall.columns:\n",
        "  datall = datall.drop('Date',1)\n",
        "  # datall = datall.rename(columns={'Date (Day)': 'Date'})\n",
        "\n",
        "if 'Start Time' in datall.columns:\n",
        "  datall = datall.drop('Start Time',1)\n",
        "  # datall = datall.rename(columns={'Start Time (hour)': 'Start Time'})\n",
        "\n",
        "if 'Duration' in datall.columns:\n",
        "  datall = datall.drop('Duration',1)\n",
        "  # datall = datall.rename(columns={'Duration (second)': 'Duration'})\n",
        "\n",
        "# if 'TVR' in datall.columns:\n",
        "#   datall = datall.drop('TVR',1)\n",
        "#   # datall = datall.rename(columns={'TVR (One digit)': 'TVR'})\n",
        "\n",
        "datall.head()"
      ],
      "execution_count": 0,
      "outputs": [
        {
          "output_type": "execute_result",
          "data": {
            "text/html": [
              "<div>\n",
              "<style scoped>\n",
              "    .dataframe tbody tr th:only-of-type {\n",
              "        vertical-align: middle;\n",
              "    }\n",
              "\n",
              "    .dataframe tbody tr th {\n",
              "        vertical-align: top;\n",
              "    }\n",
              "\n",
              "    .dataframe thead th {\n",
              "        text-align: right;\n",
              "    }\n",
              "</style>\n",
              "<table border=\"1\" class=\"dataframe\">\n",
              "  <thead>\n",
              "    <tr style=\"text-align: right;\">\n",
              "      <th></th>\n",
              "      <th>Channel</th>\n",
              "      <th>Program</th>\n",
              "      <th>Product</th>\n",
              "      <th>Ads Type</th>\n",
              "      <th>Cost</th>\n",
              "      <th>TVR</th>\n",
              "      <th>Date (Day)</th>\n",
              "      <th>Start Time (hour)</th>\n",
              "      <th>Duration (second)</th>\n",
              "      <th>TVR (One digit)</th>\n",
              "    </tr>\n",
              "  </thead>\n",
              "  <tbody>\n",
              "    <tr>\n",
              "      <th>0</th>\n",
              "      <td>ANTV</td>\n",
              "      <td>ISHQ MEIN MARJAWAN</td>\n",
              "      <td>POP MIE - INSTANT NOODLE</td>\n",
              "      <td>TEMPLATE</td>\n",
              "      <td>36000.0</td>\n",
              "      <td>1.70</td>\n",
              "      <td>Thursday</td>\n",
              "      <td>13</td>\n",
              "      <td>11</td>\n",
              "      <td>2</td>\n",
              "    </tr>\n",
              "    <tr>\n",
              "      <th>1</th>\n",
              "      <td>ANTV</td>\n",
              "      <td>ISHQ MEIN MARJAWAN</td>\n",
              "      <td>POP MIE - INSTANT NOODLE</td>\n",
              "      <td>VIRTUAL ADS</td>\n",
              "      <td>25159.0</td>\n",
              "      <td>1.70</td>\n",
              "      <td>Thursday</td>\n",
              "      <td>13</td>\n",
              "      <td>8</td>\n",
              "      <td>2</td>\n",
              "    </tr>\n",
              "    <tr>\n",
              "      <th>2</th>\n",
              "      <td>MNCTV</td>\n",
              "      <td>UPIN &amp; IPIN BERMULA</td>\n",
              "      <td>SUPER BUBUR - INSTANT PORRIDGE</td>\n",
              "      <td>SQUEEZE FRAME</td>\n",
              "      <td>63000.0</td>\n",
              "      <td>1.70</td>\n",
              "      <td>Thursday</td>\n",
              "      <td>18</td>\n",
              "      <td>24</td>\n",
              "      <td>2</td>\n",
              "    </tr>\n",
              "    <tr>\n",
              "      <th>3</th>\n",
              "      <td>MNCTV</td>\n",
              "      <td>FATIH DI KAMPUNG JAWARA 2</td>\n",
              "      <td>MIGELAS JUMBO - INSTANT NOODLE</td>\n",
              "      <td>BUILT IN SEGMEN</td>\n",
              "      <td>325000.0</td>\n",
              "      <td>1.15</td>\n",
              "      <td>Thursday</td>\n",
              "      <td>20</td>\n",
              "      <td>150</td>\n",
              "      <td>1</td>\n",
              "    </tr>\n",
              "    <tr>\n",
              "      <th>4</th>\n",
              "      <td>RCTI</td>\n",
              "      <td>OGAH RUGI</td>\n",
              "      <td>POP MIE - INSTANT NOODLE</td>\n",
              "      <td>VIRTUAL ADS</td>\n",
              "      <td>48000.0</td>\n",
              "      <td>1.40</td>\n",
              "      <td>Thursday</td>\n",
              "      <td>15</td>\n",
              "      <td>15</td>\n",
              "      <td>1</td>\n",
              "    </tr>\n",
              "  </tbody>\n",
              "</table>\n",
              "</div>"
            ],
            "text/plain": [
              "  Channel                    Program  ... Duration (second) TVR (One digit)\n",
              "0    ANTV         ISHQ MEIN MARJAWAN  ...                11               2\n",
              "1    ANTV         ISHQ MEIN MARJAWAN  ...                 8               2\n",
              "2   MNCTV        UPIN & IPIN BERMULA  ...                24               2\n",
              "3   MNCTV  FATIH DI KAMPUNG JAWARA 2  ...               150               1\n",
              "4    RCTI                  OGAH RUGI  ...                15               1\n",
              "\n",
              "[5 rows x 10 columns]"
            ]
          },
          "metadata": {
            "tags": []
          },
          "execution_count": 9
        }
      ]
    },
    {
      "cell_type": "code",
      "metadata": {
        "id": "F2TOQtuz-5ou",
        "colab_type": "code",
        "outputId": "9d2c5873-97cd-4529-b613-7e43b55f8e7b",
        "colab": {
          "base_uri": "https://localhost:8080/",
          "height": 35
        }
      },
      "source": [
        "# Cek Jumlah Data\n",
        "datall.shape"
      ],
      "execution_count": 0,
      "outputs": [
        {
          "output_type": "execute_result",
          "data": {
            "text/plain": [
              "(22218, 10)"
            ]
          },
          "metadata": {
            "tags": []
          },
          "execution_count": 10
        }
      ]
    },
    {
      "cell_type": "code",
      "metadata": {
        "id": "R73UKTYr_C-V",
        "colab_type": "code",
        "outputId": "730ddbb8-4917-4d45-cecf-7ff838dc2b85",
        "colab": {
          "base_uri": "https://localhost:8080/",
          "height": 267
        }
      },
      "source": [
        "# Cek Data Kolom\n",
        "print(datall.columns)\n",
        "\n",
        "for i in datall.columns:\n",
        "  print(\"Total \" + str(i) + \" = \" + str(datall[i].unique().size))"
      ],
      "execution_count": 0,
      "outputs": [
        {
          "output_type": "stream",
          "text": [
            "Index(['Channel', 'Program', 'Product', 'Ads Type', 'Cost', 'TVR',\n",
            "       'Date (Day)', 'Start Time (hour)', 'Duration (second)',\n",
            "       'TVR (One digit)'],\n",
            "      dtype='object')\n",
            "Total Channel = 9\n",
            "Total Program = 193\n",
            "Total Product = 19\n",
            "Total Ads Type = 19\n",
            "Total Cost = 254\n",
            "Total TVR = 152\n",
            "Total Date (Day) = 7\n",
            "Total Start Time (hour) = 21\n",
            "Total Duration (second) = 154\n",
            "Total TVR (One digit) = 13\n"
          ],
          "name": "stdout"
        }
      ]
    },
    {
      "cell_type": "code",
      "metadata": {
        "id": "SHybeKWi_Jpt",
        "colab_type": "code",
        "outputId": "3afa755d-2c9d-48af-9e5d-9937fc4d6d9f",
        "colab": {
          "base_uri": "https://localhost:8080/",
          "height": 53
        }
      },
      "source": [
        "# Cek Data Channel\n",
        "print(datall['Channel'].unique())\n",
        "print(\"Total Channel : \" + str(datall['Channel'].unique().size))"
      ],
      "execution_count": 0,
      "outputs": [
        {
          "output_type": "stream",
          "text": [
            "['ANTV' 'MNCTV' 'RCTI' 'SCTV' 'TVONE' 'IVM' 'METRO' 'NET' 'GTV']\n",
            "Total Channel : 9\n"
          ],
          "name": "stdout"
        }
      ]
    },
    {
      "cell_type": "code",
      "metadata": {
        "id": "DQdkWR18NNSj",
        "colab_type": "code",
        "outputId": "b29c8a0a-77df-49f6-8a1e-487914949459",
        "colab": {
          "base_uri": "https://localhost:8080/",
          "height": 35
        }
      },
      "source": [
        "# Cek Data Program\n",
        "# print(datall['Program'].unique())\n",
        "print(\"Total Program : \" + str(datall['Program'].unique().size))"
      ],
      "execution_count": 0,
      "outputs": [
        {
          "output_type": "stream",
          "text": [
            "Total Program : 193\n"
          ],
          "name": "stdout"
        }
      ]
    },
    {
      "cell_type": "code",
      "metadata": {
        "id": "zpNGwvpnNWAF",
        "colab_type": "code",
        "outputId": "2913f0fe-c6df-41fa-b352-6967575aa28e",
        "colab": {
          "base_uri": "https://localhost:8080/",
          "height": 35
        }
      },
      "source": [
        "# Cek Data Product\n",
        "# print(datall['Product'].unique())\n",
        "print(\"Total Product : \" + str(datall['Product'].unique().size))"
      ],
      "execution_count": 0,
      "outputs": [
        {
          "output_type": "stream",
          "text": [
            "Total Product : 19\n"
          ],
          "name": "stdout"
        }
      ]
    },
    {
      "cell_type": "code",
      "metadata": {
        "id": "pWOvQoaq_Sek",
        "colab_type": "code",
        "outputId": "82c5b9c9-134d-4893-a6ab-914c9b7c9ae1",
        "colab": {
          "base_uri": "https://localhost:8080/",
          "height": 106
        }
      },
      "source": [
        "# Cek Data Ads Type\n",
        "print(datall['Ads Type'].unique())\n",
        "print(\"Total Ads Type : \" + str(datall['Ads Type'].unique().size))"
      ],
      "execution_count": 0,
      "outputs": [
        {
          "output_type": "stream",
          "text": [
            "['TEMPLATE' 'VIRTUAL ADS' 'SQUEEZE FRAME' 'BUILT IN SEGMEN' 'SUPER IMPOSE'\n",
            " 'PLASMA' 'OBB' 'CBB' 'TVC BETWEEN PROGRAM' 'ADLIBS' 'MOVING IMPOSE'\n",
            " 'CREDIT TITLE' 'BUILT IN' 'VIRTUAL FREEZE' 'ANIMATED LOGO' 'FULL FRAME'\n",
            " 'KUIS' 'DIGITAL MOBILE' 'VERTICAL LOWER THIRD']\n",
            "Total Ads Type : 19\n"
          ],
          "name": "stdout"
        }
      ]
    },
    {
      "cell_type": "code",
      "metadata": {
        "id": "pyq_eXsYNMfD",
        "colab_type": "code",
        "outputId": "a0afeb78-0a21-46d5-811a-848445ba0f42",
        "colab": {
          "base_uri": "https://localhost:8080/",
          "height": 35
        }
      },
      "source": [
        "# Cek Data Cost\n",
        "# print(datall['Cost'].unique())\n",
        "print(\"Total Cost : \" + str(datall['Cost'].unique().size))"
      ],
      "execution_count": 0,
      "outputs": [
        {
          "output_type": "stream",
          "text": [
            "Total Cost : 254\n"
          ],
          "name": "stdout"
        }
      ]
    },
    {
      "cell_type": "code",
      "metadata": {
        "id": "gUUrpFLL_aO8",
        "colab_type": "code",
        "outputId": "c3dd60d5-6ee9-42a1-9edd-87b20c6fb0b4",
        "colab": {
          "base_uri": "https://localhost:8080/",
          "height": 53
        }
      },
      "source": [
        "# Cek Data Date (Day)\n",
        "print(datall['Date (Day)'].unique())\n",
        "print(\"Total Date (Day) : \" + str(datall['Date (Day)'].unique().size))"
      ],
      "execution_count": 0,
      "outputs": [
        {
          "output_type": "stream",
          "text": [
            "['Thursday' 'Sunday' 'Wednesday' 'Friday' 'Saturday' 'Tuesday' 'Monday']\n",
            "Total Date (Day) : 7\n"
          ],
          "name": "stdout"
        }
      ]
    },
    {
      "cell_type": "code",
      "metadata": {
        "id": "vANcQIYj_frY",
        "colab_type": "code",
        "outputId": "d1e2f9df-4577-49e5-bc98-4172dd5e5c30",
        "colab": {
          "base_uri": "https://localhost:8080/",
          "height": 71
        }
      },
      "source": [
        "# Cek Data Start Time (hour)\n",
        "print(datall['Start Time (hour)'].unique())\n",
        "print(\"Total Start Time (hour) : \" + str(datall['Start Time (hour)'].unique().size))"
      ],
      "execution_count": 0,
      "outputs": [
        {
          "output_type": "stream",
          "text": [
            "['13' '18' '20' '15' '19' '10' '21' '06' '07' '08' '09' '12' '11' '17'\n",
            " '16' '14' '05' '22' '23' '04' '02']\n",
            "Total Start Time (hour) : 21\n"
          ],
          "name": "stdout"
        }
      ]
    },
    {
      "cell_type": "code",
      "metadata": {
        "id": "L5YoV9c-_xPc",
        "colab_type": "code",
        "outputId": "30e828cd-710e-4195-c4ad-d62fad1316ee",
        "colab": {
          "base_uri": "https://localhost:8080/",
          "height": 231
        }
      },
      "source": [
        "# Cek Duration (second)\n",
        "print(datall['Duration (second)'].unique())\n",
        "print(\"Total Duration (second) : \" + str(datall['Duration (second)'].unique().size))\n",
        "\n",
        "# # Kalo yang kurang dari 1 menit\n",
        "# duration_max_sixty = []\n",
        "# for i in datall['Duration (second)'].unique():\n",
        "#   if int(i) <= 60:\n",
        "#     duration_max_sixty.append(i)\n",
        "\n",
        "# print(duration_max_sixty)\n",
        "# print(\"Total Duration (second) : \" + str(len(duration_max_sixty)))"
      ],
      "execution_count": 0,
      "outputs": [
        {
          "output_type": "stream",
          "text": [
            "[  11    8   24  150   15   14    9   12  110   13    3    5   10    4\n",
            "    6    2  157    7   26    1   16  141  140  135   18   17  146  153\n",
            "   22  314   25  126   19  109   44  129   23  154  145   20  156   29\n",
            "  151  124   21  165  261   27  148  180  136  171   64  139  344  134\n",
            "  158  223  147  128  125  201   45  123   30  149  142  113   72  191\n",
            "   46  120  143 1811  230  131  130   37   35   78   68  186  137   60\n",
            "  195   52  155  138   32  163  187  233  231  127  111  172  173  185\n",
            "   50  179  118   53   28  208  669  159   71   73   67  182   36  133\n",
            "  178  183   63   85   98   58  193   84  166  242  132   75  241  192\n",
            "   79  184  164   34  161   70  249   81   38  114   82  175  234  190\n",
            "   80   41   55  160   91  121   77  122   96  100   62  243   69   43]\n",
            "Total Duration (second) : 154\n"
          ],
          "name": "stdout"
        }
      ]
    },
    {
      "cell_type": "code",
      "metadata": {
        "id": "KN_W7yji_1tS",
        "colab_type": "code",
        "outputId": "494ae89a-c8ba-48aa-fe0f-0f160b819842",
        "colab": {
          "base_uri": "https://localhost:8080/",
          "height": 53
        }
      },
      "source": [
        "# Cek TVR (One digit) -> pake data discret\n",
        "print(datall['TVR (One digit)'].unique())\n",
        "print(\"Total TVR (One digit) : \" + str(datall['TVR (One digit)'].unique().size))"
      ],
      "execution_count": 0,
      "outputs": [
        {
          "output_type": "stream",
          "text": [
            "[ 2  1  4  3  0  5  6  7  8  9 10 12 11]\n",
            "Total TVR (One digit) : 13\n"
          ],
          "name": "stdout"
        }
      ]
    },
    {
      "cell_type": "code",
      "metadata": {
        "id": "IdG0iie4KZ_o",
        "colab_type": "code",
        "colab": {}
      },
      "source": [
        "# Inisialisasi Index Channel \n",
        "\n",
        "daftar_channel = []\n",
        "\n",
        "for d in datall['Channel'].unique():\n",
        "  daftar_channel.append(d)\n",
        "\n",
        "# print(daftar_channel)"
      ],
      "execution_count": 0,
      "outputs": []
    },
    {
      "cell_type": "code",
      "metadata": {
        "id": "7SXcOYSJK9qW",
        "colab_type": "code",
        "outputId": "a88175fd-6975-4531-c7ab-65d8c302c580",
        "colab": {
          "base_uri": "https://localhost:8080/",
          "height": 206
        }
      },
      "source": [
        "# Konversi Indeks Channel\n",
        "daftar_channel = []\n",
        "\n",
        "for d in datall['Channel'].unique():\n",
        "  daftar_channel.append(d)\n",
        "  \n",
        "channel_index = []\n",
        "\n",
        "if  str(datall['Channel'][0]).isdigit() == False:\n",
        "  for d in datall['Channel']:\n",
        "    chindex = daftar_channel.index(d)\n",
        "    channel_index.append(chindex)\n",
        "\n",
        "  datall['Channel'] = channel_index\n",
        "  \n",
        "datall.head()"
      ],
      "execution_count": 0,
      "outputs": [
        {
          "output_type": "execute_result",
          "data": {
            "text/html": [
              "<div>\n",
              "<style scoped>\n",
              "    .dataframe tbody tr th:only-of-type {\n",
              "        vertical-align: middle;\n",
              "    }\n",
              "\n",
              "    .dataframe tbody tr th {\n",
              "        vertical-align: top;\n",
              "    }\n",
              "\n",
              "    .dataframe thead th {\n",
              "        text-align: right;\n",
              "    }\n",
              "</style>\n",
              "<table border=\"1\" class=\"dataframe\">\n",
              "  <thead>\n",
              "    <tr style=\"text-align: right;\">\n",
              "      <th></th>\n",
              "      <th>Channel</th>\n",
              "      <th>Program</th>\n",
              "      <th>Product</th>\n",
              "      <th>Ads Type</th>\n",
              "      <th>Cost</th>\n",
              "      <th>TVR</th>\n",
              "      <th>Date (Day)</th>\n",
              "      <th>Start Time (hour)</th>\n",
              "      <th>Duration (second)</th>\n",
              "    </tr>\n",
              "  </thead>\n",
              "  <tbody>\n",
              "    <tr>\n",
              "      <th>0</th>\n",
              "      <td>0</td>\n",
              "      <td>ISHQ MEIN MARJAWAN</td>\n",
              "      <td>POP MIE - INSTANT NOODLE</td>\n",
              "      <td>TEMPLATE</td>\n",
              "      <td>36000.0</td>\n",
              "      <td>1.70</td>\n",
              "      <td>Thursday</td>\n",
              "      <td>13</td>\n",
              "      <td>11</td>\n",
              "    </tr>\n",
              "    <tr>\n",
              "      <th>1</th>\n",
              "      <td>0</td>\n",
              "      <td>ISHQ MEIN MARJAWAN</td>\n",
              "      <td>POP MIE - INSTANT NOODLE</td>\n",
              "      <td>VIRTUAL ADS</td>\n",
              "      <td>25159.0</td>\n",
              "      <td>1.70</td>\n",
              "      <td>Thursday</td>\n",
              "      <td>13</td>\n",
              "      <td>8</td>\n",
              "    </tr>\n",
              "    <tr>\n",
              "      <th>2</th>\n",
              "      <td>1</td>\n",
              "      <td>UPIN &amp; IPIN BERMULA</td>\n",
              "      <td>SUPER BUBUR - INSTANT PORRIDGE</td>\n",
              "      <td>SQUEEZE FRAME</td>\n",
              "      <td>63000.0</td>\n",
              "      <td>1.70</td>\n",
              "      <td>Thursday</td>\n",
              "      <td>18</td>\n",
              "      <td>24</td>\n",
              "    </tr>\n",
              "    <tr>\n",
              "      <th>3</th>\n",
              "      <td>1</td>\n",
              "      <td>FATIH DI KAMPUNG JAWARA 2</td>\n",
              "      <td>MIGELAS JUMBO - INSTANT NOODLE</td>\n",
              "      <td>BUILT IN SEGMEN</td>\n",
              "      <td>325000.0</td>\n",
              "      <td>1.15</td>\n",
              "      <td>Thursday</td>\n",
              "      <td>20</td>\n",
              "      <td>150</td>\n",
              "    </tr>\n",
              "    <tr>\n",
              "      <th>4</th>\n",
              "      <td>2</td>\n",
              "      <td>OGAH RUGI</td>\n",
              "      <td>POP MIE - INSTANT NOODLE</td>\n",
              "      <td>VIRTUAL ADS</td>\n",
              "      <td>48000.0</td>\n",
              "      <td>1.40</td>\n",
              "      <td>Thursday</td>\n",
              "      <td>15</td>\n",
              "      <td>15</td>\n",
              "    </tr>\n",
              "  </tbody>\n",
              "</table>\n",
              "</div>"
            ],
            "text/plain": [
              "   Channel                    Program  ... Start Time (hour) Duration (second)\n",
              "0        0         ISHQ MEIN MARJAWAN  ...                13                11\n",
              "1        0         ISHQ MEIN MARJAWAN  ...                13                 8\n",
              "2        1        UPIN & IPIN BERMULA  ...                18                24\n",
              "3        1  FATIH DI KAMPUNG JAWARA 2  ...                20               150\n",
              "4        2                  OGAH RUGI  ...                15                15\n",
              "\n",
              "[5 rows x 9 columns]"
            ]
          },
          "metadata": {
            "tags": []
          },
          "execution_count": 25
        }
      ]
    },
    {
      "cell_type": "code",
      "metadata": {
        "id": "S2aFKyA6Odfq",
        "colab_type": "code",
        "colab": {}
      },
      "source": [
        "# print(datall.columns)\n",
        "# Inisialisasi Daftar Program\n",
        "\n",
        "# daftar_program  = []\n",
        "\n",
        "# for d in datall['Program'].unique():\n",
        "#   daftar_program.append(d)\n",
        "\n",
        "# print(daftar_program)\n",
        "# print('Total = ' + str(len(daftar_program)))"
      ],
      "execution_count": 0,
      "outputs": []
    },
    {
      "cell_type": "code",
      "metadata": {
        "id": "cnKkwN9POprS",
        "colab_type": "code",
        "outputId": "201db5cc-9ef7-4ff6-b1c8-635227dbd5a9",
        "colab": {
          "base_uri": "https://localhost:8080/",
          "height": 206
        }
      },
      "source": [
        "# Konversi Indeks Program\n",
        "daftar_program  = []\n",
        "\n",
        "for d in datall['Program'].unique():\n",
        "  daftar_program.append(d)\n",
        "\n",
        "program_index = []\n",
        "\n",
        "if  str(datall['Program'][0]).isdigit() == False:\n",
        "  for d in datall['Program']:\n",
        "    index = daftar_program.index(d)\n",
        "    program_index.append(index)\n",
        "\n",
        "  datall['Program'] = program_index\n",
        "  \n",
        "datall.head()"
      ],
      "execution_count": 0,
      "outputs": [
        {
          "output_type": "execute_result",
          "data": {
            "text/html": [
              "<div>\n",
              "<style scoped>\n",
              "    .dataframe tbody tr th:only-of-type {\n",
              "        vertical-align: middle;\n",
              "    }\n",
              "\n",
              "    .dataframe tbody tr th {\n",
              "        vertical-align: top;\n",
              "    }\n",
              "\n",
              "    .dataframe thead th {\n",
              "        text-align: right;\n",
              "    }\n",
              "</style>\n",
              "<table border=\"1\" class=\"dataframe\">\n",
              "  <thead>\n",
              "    <tr style=\"text-align: right;\">\n",
              "      <th></th>\n",
              "      <th>Channel</th>\n",
              "      <th>Program</th>\n",
              "      <th>Product</th>\n",
              "      <th>Ads Type</th>\n",
              "      <th>Cost</th>\n",
              "      <th>TVR</th>\n",
              "      <th>Date (Day)</th>\n",
              "      <th>Start Time (hour)</th>\n",
              "      <th>Duration (second)</th>\n",
              "    </tr>\n",
              "  </thead>\n",
              "  <tbody>\n",
              "    <tr>\n",
              "      <th>0</th>\n",
              "      <td>0</td>\n",
              "      <td>0</td>\n",
              "      <td>POP MIE - INSTANT NOODLE</td>\n",
              "      <td>TEMPLATE</td>\n",
              "      <td>36000.0</td>\n",
              "      <td>1.70</td>\n",
              "      <td>Thursday</td>\n",
              "      <td>13</td>\n",
              "      <td>11</td>\n",
              "    </tr>\n",
              "    <tr>\n",
              "      <th>1</th>\n",
              "      <td>0</td>\n",
              "      <td>0</td>\n",
              "      <td>POP MIE - INSTANT NOODLE</td>\n",
              "      <td>VIRTUAL ADS</td>\n",
              "      <td>25159.0</td>\n",
              "      <td>1.70</td>\n",
              "      <td>Thursday</td>\n",
              "      <td>13</td>\n",
              "      <td>8</td>\n",
              "    </tr>\n",
              "    <tr>\n",
              "      <th>2</th>\n",
              "      <td>1</td>\n",
              "      <td>1</td>\n",
              "      <td>SUPER BUBUR - INSTANT PORRIDGE</td>\n",
              "      <td>SQUEEZE FRAME</td>\n",
              "      <td>63000.0</td>\n",
              "      <td>1.70</td>\n",
              "      <td>Thursday</td>\n",
              "      <td>18</td>\n",
              "      <td>24</td>\n",
              "    </tr>\n",
              "    <tr>\n",
              "      <th>3</th>\n",
              "      <td>1</td>\n",
              "      <td>2</td>\n",
              "      <td>MIGELAS JUMBO - INSTANT NOODLE</td>\n",
              "      <td>BUILT IN SEGMEN</td>\n",
              "      <td>325000.0</td>\n",
              "      <td>1.15</td>\n",
              "      <td>Thursday</td>\n",
              "      <td>20</td>\n",
              "      <td>150</td>\n",
              "    </tr>\n",
              "    <tr>\n",
              "      <th>4</th>\n",
              "      <td>2</td>\n",
              "      <td>3</td>\n",
              "      <td>POP MIE - INSTANT NOODLE</td>\n",
              "      <td>VIRTUAL ADS</td>\n",
              "      <td>48000.0</td>\n",
              "      <td>1.40</td>\n",
              "      <td>Thursday</td>\n",
              "      <td>15</td>\n",
              "      <td>15</td>\n",
              "    </tr>\n",
              "  </tbody>\n",
              "</table>\n",
              "</div>"
            ],
            "text/plain": [
              "   Channel  Program  ... Start Time (hour) Duration (second)\n",
              "0        0        0  ...                13                11\n",
              "1        0        0  ...                13                 8\n",
              "2        1        1  ...                18                24\n",
              "3        1        2  ...                20               150\n",
              "4        2        3  ...                15                15\n",
              "\n",
              "[5 rows x 9 columns]"
            ]
          },
          "metadata": {
            "tags": []
          },
          "execution_count": 27
        }
      ]
    },
    {
      "cell_type": "code",
      "metadata": {
        "id": "BNwgCmjXN687",
        "colab_type": "code",
        "colab": {}
      },
      "source": [
        "# print(datall.columns)\n",
        "# Inisialisasi Daftar Product\n",
        "\n",
        "# daftar_product  = []\n",
        "\n",
        "# for d in datall['Product'].unique():\n",
        "#   daftar_product.append(d)\n",
        "\n",
        "# print(daftar_product)\n",
        "# print('Total = ' + str(len(daftar_product)))"
      ],
      "execution_count": 0,
      "outputs": []
    },
    {
      "cell_type": "code",
      "metadata": {
        "id": "2lJNfIkEOIXy",
        "colab_type": "code",
        "outputId": "17701967-2259-41bc-9531-6953d128e7e4",
        "colab": {
          "base_uri": "https://localhost:8080/",
          "height": 206
        }
      },
      "source": [
        "# Konversi Indeks Product\n",
        "daftar_product  = []\n",
        "\n",
        "for d in datall['Product'].unique():\n",
        "  daftar_product.append(d)\n",
        "  \n",
        "product_index = []\n",
        "\n",
        "if  str(datall['Product'][0]).isdigit() == False:\n",
        "  for d in datall['Product']:\n",
        "    index = daftar_product.index(d)\n",
        "    product_index.append(index)\n",
        "\n",
        "  datall['Product'] = product_index\n",
        "  \n",
        "datall.head()"
      ],
      "execution_count": 0,
      "outputs": [
        {
          "output_type": "execute_result",
          "data": {
            "text/html": [
              "<div>\n",
              "<style scoped>\n",
              "    .dataframe tbody tr th:only-of-type {\n",
              "        vertical-align: middle;\n",
              "    }\n",
              "\n",
              "    .dataframe tbody tr th {\n",
              "        vertical-align: top;\n",
              "    }\n",
              "\n",
              "    .dataframe thead th {\n",
              "        text-align: right;\n",
              "    }\n",
              "</style>\n",
              "<table border=\"1\" class=\"dataframe\">\n",
              "  <thead>\n",
              "    <tr style=\"text-align: right;\">\n",
              "      <th></th>\n",
              "      <th>Channel</th>\n",
              "      <th>Program</th>\n",
              "      <th>Product</th>\n",
              "      <th>Ads Type</th>\n",
              "      <th>Cost</th>\n",
              "      <th>TVR</th>\n",
              "      <th>Date (Day)</th>\n",
              "      <th>Start Time (hour)</th>\n",
              "      <th>Duration (second)</th>\n",
              "    </tr>\n",
              "  </thead>\n",
              "  <tbody>\n",
              "    <tr>\n",
              "      <th>0</th>\n",
              "      <td>0</td>\n",
              "      <td>0</td>\n",
              "      <td>0</td>\n",
              "      <td>TEMPLATE</td>\n",
              "      <td>36000.0</td>\n",
              "      <td>1.70</td>\n",
              "      <td>Thursday</td>\n",
              "      <td>13</td>\n",
              "      <td>11</td>\n",
              "    </tr>\n",
              "    <tr>\n",
              "      <th>1</th>\n",
              "      <td>0</td>\n",
              "      <td>0</td>\n",
              "      <td>0</td>\n",
              "      <td>VIRTUAL ADS</td>\n",
              "      <td>25159.0</td>\n",
              "      <td>1.70</td>\n",
              "      <td>Thursday</td>\n",
              "      <td>13</td>\n",
              "      <td>8</td>\n",
              "    </tr>\n",
              "    <tr>\n",
              "      <th>2</th>\n",
              "      <td>1</td>\n",
              "      <td>1</td>\n",
              "      <td>1</td>\n",
              "      <td>SQUEEZE FRAME</td>\n",
              "      <td>63000.0</td>\n",
              "      <td>1.70</td>\n",
              "      <td>Thursday</td>\n",
              "      <td>18</td>\n",
              "      <td>24</td>\n",
              "    </tr>\n",
              "    <tr>\n",
              "      <th>3</th>\n",
              "      <td>1</td>\n",
              "      <td>2</td>\n",
              "      <td>2</td>\n",
              "      <td>BUILT IN SEGMEN</td>\n",
              "      <td>325000.0</td>\n",
              "      <td>1.15</td>\n",
              "      <td>Thursday</td>\n",
              "      <td>20</td>\n",
              "      <td>150</td>\n",
              "    </tr>\n",
              "    <tr>\n",
              "      <th>4</th>\n",
              "      <td>2</td>\n",
              "      <td>3</td>\n",
              "      <td>0</td>\n",
              "      <td>VIRTUAL ADS</td>\n",
              "      <td>48000.0</td>\n",
              "      <td>1.40</td>\n",
              "      <td>Thursday</td>\n",
              "      <td>15</td>\n",
              "      <td>15</td>\n",
              "    </tr>\n",
              "  </tbody>\n",
              "</table>\n",
              "</div>"
            ],
            "text/plain": [
              "   Channel  Program  Product  ... Date (Day)  Start Time (hour)  Duration (second)\n",
              "0        0        0        0  ...   Thursday                 13                 11\n",
              "1        0        0        0  ...   Thursday                 13                  8\n",
              "2        1        1        1  ...   Thursday                 18                 24\n",
              "3        1        2        2  ...   Thursday                 20                150\n",
              "4        2        3        0  ...   Thursday                 15                 15\n",
              "\n",
              "[5 rows x 9 columns]"
            ]
          },
          "metadata": {
            "tags": []
          },
          "execution_count": 29
        }
      ]
    },
    {
      "cell_type": "code",
      "metadata": {
        "id": "pw9ismSlNBPD",
        "colab_type": "code",
        "colab": {}
      },
      "source": [
        "# print(datall.columns)\n",
        "# Inisialisasi Index Ads Type \n",
        "\n",
        "# daftar_ads_type = []\n",
        "\n",
        "# for d in datall['Ads Type'].unique():\n",
        "#   daftar_ads_type.append(d)\n",
        "\n",
        "# print(daftar_ads_type)\n",
        "# print('Total = ' + str(len(daftar_ads_type)))"
      ],
      "execution_count": 0,
      "outputs": []
    },
    {
      "cell_type": "code",
      "metadata": {
        "id": "J-dciXpiOCv_",
        "colab_type": "code",
        "outputId": "f76f14b3-db53-4be3-a07e-8c7893da9585",
        "colab": {
          "base_uri": "https://localhost:8080/",
          "height": 206
        }
      },
      "source": [
        "# Konversi Indeks Ads Type\n",
        "daftar_ads_type = []\n",
        "\n",
        "for d in datall['Ads Type'].unique():\n",
        "  daftar_ads_type.append(d)\n",
        "\n",
        "ads_type_index = []\n",
        "\n",
        "if  str(datall['Ads Type'][0]).isdigit() == False:\n",
        "  for d in datall['Ads Type']:\n",
        "    adsindex = daftar_ads_type.index(d) \n",
        "    ads_type_index.append(adsindex)\n",
        "\n",
        "  datall['Ads Type'] = ads_type_index\n",
        "  \n",
        "datall.head()"
      ],
      "execution_count": 0,
      "outputs": [
        {
          "output_type": "execute_result",
          "data": {
            "text/html": [
              "<div>\n",
              "<style scoped>\n",
              "    .dataframe tbody tr th:only-of-type {\n",
              "        vertical-align: middle;\n",
              "    }\n",
              "\n",
              "    .dataframe tbody tr th {\n",
              "        vertical-align: top;\n",
              "    }\n",
              "\n",
              "    .dataframe thead th {\n",
              "        text-align: right;\n",
              "    }\n",
              "</style>\n",
              "<table border=\"1\" class=\"dataframe\">\n",
              "  <thead>\n",
              "    <tr style=\"text-align: right;\">\n",
              "      <th></th>\n",
              "      <th>Channel</th>\n",
              "      <th>Program</th>\n",
              "      <th>Product</th>\n",
              "      <th>Ads Type</th>\n",
              "      <th>Cost</th>\n",
              "      <th>TVR</th>\n",
              "      <th>Date (Day)</th>\n",
              "      <th>Start Time (hour)</th>\n",
              "      <th>Duration (second)</th>\n",
              "    </tr>\n",
              "  </thead>\n",
              "  <tbody>\n",
              "    <tr>\n",
              "      <th>0</th>\n",
              "      <td>0</td>\n",
              "      <td>0</td>\n",
              "      <td>0</td>\n",
              "      <td>0</td>\n",
              "      <td>36000.0</td>\n",
              "      <td>1.70</td>\n",
              "      <td>Thursday</td>\n",
              "      <td>13</td>\n",
              "      <td>11</td>\n",
              "    </tr>\n",
              "    <tr>\n",
              "      <th>1</th>\n",
              "      <td>0</td>\n",
              "      <td>0</td>\n",
              "      <td>0</td>\n",
              "      <td>1</td>\n",
              "      <td>25159.0</td>\n",
              "      <td>1.70</td>\n",
              "      <td>Thursday</td>\n",
              "      <td>13</td>\n",
              "      <td>8</td>\n",
              "    </tr>\n",
              "    <tr>\n",
              "      <th>2</th>\n",
              "      <td>1</td>\n",
              "      <td>1</td>\n",
              "      <td>1</td>\n",
              "      <td>2</td>\n",
              "      <td>63000.0</td>\n",
              "      <td>1.70</td>\n",
              "      <td>Thursday</td>\n",
              "      <td>18</td>\n",
              "      <td>24</td>\n",
              "    </tr>\n",
              "    <tr>\n",
              "      <th>3</th>\n",
              "      <td>1</td>\n",
              "      <td>2</td>\n",
              "      <td>2</td>\n",
              "      <td>3</td>\n",
              "      <td>325000.0</td>\n",
              "      <td>1.15</td>\n",
              "      <td>Thursday</td>\n",
              "      <td>20</td>\n",
              "      <td>150</td>\n",
              "    </tr>\n",
              "    <tr>\n",
              "      <th>4</th>\n",
              "      <td>2</td>\n",
              "      <td>3</td>\n",
              "      <td>0</td>\n",
              "      <td>1</td>\n",
              "      <td>48000.0</td>\n",
              "      <td>1.40</td>\n",
              "      <td>Thursday</td>\n",
              "      <td>15</td>\n",
              "      <td>15</td>\n",
              "    </tr>\n",
              "  </tbody>\n",
              "</table>\n",
              "</div>"
            ],
            "text/plain": [
              "   Channel  Program  Product  ...  Date (Day)  Start Time (hour)  Duration (second)\n",
              "0        0        0        0  ...    Thursday                 13                 11\n",
              "1        0        0        0  ...    Thursday                 13                  8\n",
              "2        1        1        1  ...    Thursday                 18                 24\n",
              "3        1        2        2  ...    Thursday                 20                150\n",
              "4        2        3        0  ...    Thursday                 15                 15\n",
              "\n",
              "[5 rows x 9 columns]"
            ]
          },
          "metadata": {
            "tags": []
          },
          "execution_count": 31
        }
      ]
    },
    {
      "cell_type": "code",
      "metadata": {
        "id": "G85AZDzbPaT8",
        "colab_type": "code",
        "colab": {}
      },
      "source": [
        "# # # normalisasi cost\n",
        "# # from sklearn import preprocessing\n",
        "\n",
        "# # # Set charts to view inline\n",
        "# # %matplotlib inline\n",
        "\n",
        "# # # # View the unnormalized data\n",
        "# # datall['Cost'].plot(kind='bar')\n",
        "\n",
        "# # Create x, where x the 'scores' column's values as floats\n",
        "# x = datall[['Cost']].values.astype(float)\n",
        "\n",
        "# # Create a minimum and maximum processor object\n",
        "# min_max_scaler = preprocessing.MinMaxScaler()\n",
        "\n",
        "# # Create an object to transform the data to fit minmax processor\n",
        "# x_scaled = min_max_scaler.fit_transform(x)\n",
        "\n",
        "# # Run the normalizer on the dataframe\n",
        "# datall_normalized = pd.DataFrame(x_scaled)\n",
        "# datall['Cost (Normalized)'] = x_scaled\n",
        "# # datall.head()\n",
        "# datall['Cost'].plot(kind='bar')"
      ],
      "execution_count": 0,
      "outputs": []
    },
    {
      "cell_type": "code",
      "metadata": {
        "id": "D4RtJ7pkXnbY",
        "colab_type": "code",
        "colab": {}
      },
      "source": [
        "# # Import required modules\n",
        "# import pandas as pd\n",
        "# from sklearn import preprocessing\n",
        "\n",
        "# # Set charts to view inline\n",
        "# %matplotlib inline\n",
        "\n",
        "# # # View the unnormalized data\n",
        "# datall_normalized.plot(kind='bar')"
      ],
      "execution_count": 0,
      "outputs": []
    },
    {
      "cell_type": "code",
      "metadata": {
        "id": "gf5bTAG9PYyJ",
        "colab_type": "code",
        "colab": {}
      },
      "source": [
        "# # Inisialisasi Index Date (Day)\n",
        "\n",
        "# daftar_day = []\n",
        "\n",
        "# for d in datall['Date (Day)'].unique():\n",
        "#   daftar_day.append(d)\n",
        "\n",
        "# print(daftar_day)\n",
        "# print('Total = ' + str(len(daftar_day)))"
      ],
      "execution_count": 0,
      "outputs": []
    },
    {
      "cell_type": "code",
      "metadata": {
        "id": "FXemCXUTOfoF",
        "colab_type": "code",
        "outputId": "d9aebb9d-6c3d-4742-881c-de32a6a545ec",
        "colab": {
          "base_uri": "https://localhost:8080/",
          "height": 206
        }
      },
      "source": [
        "# Konversi Indeks Date (Day)\n",
        "daftar_day = []\n",
        "\n",
        "for d in datall['Date (Day)'].unique():\n",
        "  daftar_day.append(d)\n",
        "  \n",
        "date_day_index = []\n",
        "\n",
        "if  str(datall['Date (Day)'][0]).isdigit() == False:\n",
        "  for d in datall['Date (Day)']:\n",
        "    ddindex = daftar_day.index(d)\n",
        "    date_day_index.append(ddindex)\n",
        "\n",
        "  datall['Date (Day)'] = date_day_index\n",
        "  \n",
        "datall.head()"
      ],
      "execution_count": 0,
      "outputs": [
        {
          "output_type": "execute_result",
          "data": {
            "text/html": [
              "<div>\n",
              "<style scoped>\n",
              "    .dataframe tbody tr th:only-of-type {\n",
              "        vertical-align: middle;\n",
              "    }\n",
              "\n",
              "    .dataframe tbody tr th {\n",
              "        vertical-align: top;\n",
              "    }\n",
              "\n",
              "    .dataframe thead th {\n",
              "        text-align: right;\n",
              "    }\n",
              "</style>\n",
              "<table border=\"1\" class=\"dataframe\">\n",
              "  <thead>\n",
              "    <tr style=\"text-align: right;\">\n",
              "      <th></th>\n",
              "      <th>Channel</th>\n",
              "      <th>Program</th>\n",
              "      <th>Product</th>\n",
              "      <th>Ads Type</th>\n",
              "      <th>Cost</th>\n",
              "      <th>TVR</th>\n",
              "      <th>Date (Day)</th>\n",
              "      <th>Start Time (hour)</th>\n",
              "      <th>Duration (second)</th>\n",
              "    </tr>\n",
              "  </thead>\n",
              "  <tbody>\n",
              "    <tr>\n",
              "      <th>0</th>\n",
              "      <td>0</td>\n",
              "      <td>0</td>\n",
              "      <td>0</td>\n",
              "      <td>0</td>\n",
              "      <td>36000.0</td>\n",
              "      <td>1.70</td>\n",
              "      <td>0</td>\n",
              "      <td>13</td>\n",
              "      <td>11</td>\n",
              "    </tr>\n",
              "    <tr>\n",
              "      <th>1</th>\n",
              "      <td>0</td>\n",
              "      <td>0</td>\n",
              "      <td>0</td>\n",
              "      <td>1</td>\n",
              "      <td>25159.0</td>\n",
              "      <td>1.70</td>\n",
              "      <td>0</td>\n",
              "      <td>13</td>\n",
              "      <td>8</td>\n",
              "    </tr>\n",
              "    <tr>\n",
              "      <th>2</th>\n",
              "      <td>1</td>\n",
              "      <td>1</td>\n",
              "      <td>1</td>\n",
              "      <td>2</td>\n",
              "      <td>63000.0</td>\n",
              "      <td>1.70</td>\n",
              "      <td>0</td>\n",
              "      <td>18</td>\n",
              "      <td>24</td>\n",
              "    </tr>\n",
              "    <tr>\n",
              "      <th>3</th>\n",
              "      <td>1</td>\n",
              "      <td>2</td>\n",
              "      <td>2</td>\n",
              "      <td>3</td>\n",
              "      <td>325000.0</td>\n",
              "      <td>1.15</td>\n",
              "      <td>0</td>\n",
              "      <td>20</td>\n",
              "      <td>150</td>\n",
              "    </tr>\n",
              "    <tr>\n",
              "      <th>4</th>\n",
              "      <td>2</td>\n",
              "      <td>3</td>\n",
              "      <td>0</td>\n",
              "      <td>1</td>\n",
              "      <td>48000.0</td>\n",
              "      <td>1.40</td>\n",
              "      <td>0</td>\n",
              "      <td>15</td>\n",
              "      <td>15</td>\n",
              "    </tr>\n",
              "  </tbody>\n",
              "</table>\n",
              "</div>"
            ],
            "text/plain": [
              "   Channel  Program  Product  ...  Date (Day)  Start Time (hour)  Duration (second)\n",
              "0        0        0        0  ...           0                 13                 11\n",
              "1        0        0        0  ...           0                 13                  8\n",
              "2        1        1        1  ...           0                 18                 24\n",
              "3        1        2        2  ...           0                 20                150\n",
              "4        2        3        0  ...           0                 15                 15\n",
              "\n",
              "[5 rows x 9 columns]"
            ]
          },
          "metadata": {
            "tags": []
          },
          "execution_count": 33
        }
      ]
    },
    {
      "cell_type": "code",
      "metadata": {
        "id": "GjWfhmM5Pjwo",
        "colab_type": "code",
        "outputId": "e2fc8b40-342d-4583-b07a-cea0a6225220",
        "colab": {
          "base_uri": "https://localhost:8080/",
          "height": 303
        }
      },
      "source": [
        "def databinning(namakolom, jumlahbin):\n",
        "  datanya = []\n",
        "\n",
        "  for d in datall[namakolom]:\n",
        "      datanya.append(d)\n",
        "      # arr_tvr.append(int(round(d)))\n",
        "\n",
        "  print(len(datanya))\n",
        "\n",
        "  datanya = np.sort(datanya)\n",
        "  # datanya = datanya.sort()\n",
        "  print(datanya)\n",
        "  de = 0\n",
        "\n",
        "  for i in range(0,len(datanya),int(len(datanya)/jumlahbin)):\n",
        "    mean = 0  \n",
        "    for j in range (0,int(len(datanya)/jumlahbin),1) :\n",
        "      mean = mean + datanya[i+j]\n",
        "    de = de + 1\n",
        "    print(\"Bin \" + str(de) + \" Batas bawah \" + str(i) + \" Batas atas \" + str(i+(datanya.size/jumlahbin)) + \" Mean \" + str(mean/((datanya.size/jumlahbin))))\n",
        "\n",
        "databinning('Cost',14)"
      ],
      "execution_count": 0,
      "outputs": [
        {
          "output_type": "stream",
          "text": [
            "22218\n",
            "[1.0e-01 1.0e-01 1.0e-01 ... 2.2e+06 2.5e+06 3.0e+06]\n",
            "Bin 1 Batas bawah 0 Batas atas 1587.0 Mean 8954.270346565829\n",
            "Bin 2 Batas bawah 1587 Batas atas 3174.0 Mean 15402.42255828607\n",
            "Bin 3 Batas bawah 3174 Batas atas 4761.0 Mean 18263.279647133102\n",
            "Bin 4 Batas bawah 4761 Batas atas 6348.0 Mean 20518.32948960301\n",
            "Bin 5 Batas bawah 6348 Batas atas 7935.0 Mean 26037.74171392565\n",
            "Bin 6 Batas bawah 7935 Batas atas 9522.0 Mean 27039.392249527406\n",
            "Bin 7 Batas bawah 9522 Batas atas 11109.0 Mean 31289.073913043372\n",
            "Bin 8 Batas bawah 11109 Batas atas 12696.0 Mean 36038.48040327654\n",
            "Bin 9 Batas bawah 12696 Batas atas 14283.0 Mean 40403.06049149341\n",
            "Bin 10 Batas bawah 14283 Batas atas 15870.0 Mean 43853.2677378703\n",
            "Bin 11 Batas bawah 15870 Batas atas 17457.0 Mean 49073.26074354124\n",
            "Bin 12 Batas bawah 17457 Batas atas 19044.0 Mean 58219.62507876496\n",
            "Bin 13 Batas bawah 19044 Batas atas 20631.0 Mean 61025.36345305607\n",
            "Bin 14 Batas bawah 20631 Batas atas 22218.0 Mean 137377.802268431\n"
          ],
          "name": "stdout"
        }
      ]
    },
    {
      "cell_type": "code",
      "metadata": {
        "id": "FHNySA8IKKc0",
        "colab_type": "code",
        "outputId": "b2b9c2bc-e6d5-48f9-9df4-d726c1fe791e",
        "colab": {
          "base_uri": "https://localhost:8080/",
          "height": 35
        }
      },
      "source": [
        "print(max(datall['Cost']))"
      ],
      "execution_count": 0,
      "outputs": [
        {
          "output_type": "stream",
          "text": [
            "3000000.0\n"
          ],
          "name": "stdout"
        }
      ]
    },
    {
      "cell_type": "code",
      "metadata": {
        "id": "IgopmgUQIygq",
        "colab_type": "code",
        "colab": {}
      },
      "source": [
        "# print(arr_tvr[22000])\n",
        "# # print(arr_tvr.index(11.9))\n",
        "# print(np.amax(arr_tvr))\n",
        "# print(arr_tvr[14068])\n",
        "# # print(arr_tvr.index(10.1))\n",
        "\n",
        "# newmean = 0\n",
        "# for c in range(14811,18515):\n",
        "#     newmean = newmean + arr_tvr[c]\n",
        "\n",
        "# print(newmean/(len(arr_tvr)/3))"
      ],
      "execution_count": 0,
      "outputs": []
    },
    {
      "cell_type": "code",
      "metadata": {
        "id": "8t-hnNvSial7",
        "colab_type": "code",
        "outputId": "a7943a31-bc36-4803-ec06-7557b5cdf5ae",
        "colab": {
          "base_uri": "https://localhost:8080/",
          "height": 223
        }
      },
      "source": [
        "arr_cost = []\n",
        "\n",
        "for d in datall['Cost']:\n",
        "    arr_cost.append(d)\n",
        "\n",
        "databinning(arr_cost,6)\n",
        "print(max(arr_cost))"
      ],
      "execution_count": 0,
      "outputs": [
        {
          "output_type": "error",
          "ename": "NameError",
          "evalue": "ignored",
          "traceback": [
            "\u001b[0;31m---------------------------------------------------------------------------\u001b[0m",
            "\u001b[0;31mNameError\u001b[0m                                 Traceback (most recent call last)",
            "\u001b[0;32m<ipython-input-3-5231354a1920>\u001b[0m in \u001b[0;36m<module>\u001b[0;34m()\u001b[0m\n\u001b[1;32m      4\u001b[0m     \u001b[0marr_cost\u001b[0m\u001b[0;34m.\u001b[0m\u001b[0mappend\u001b[0m\u001b[0;34m(\u001b[0m\u001b[0md\u001b[0m\u001b[0;34m)\u001b[0m\u001b[0;34m\u001b[0m\u001b[0;34m\u001b[0m\u001b[0m\n\u001b[1;32m      5\u001b[0m \u001b[0;34m\u001b[0m\u001b[0m\n\u001b[0;32m----> 6\u001b[0;31m \u001b[0mdatabinning\u001b[0m\u001b[0;34m(\u001b[0m\u001b[0marr_cost\u001b[0m\u001b[0;34m,\u001b[0m\u001b[0;36m6\u001b[0m\u001b[0;34m)\u001b[0m\u001b[0;34m\u001b[0m\u001b[0;34m\u001b[0m\u001b[0m\n\u001b[0m\u001b[1;32m      7\u001b[0m \u001b[0mprint\u001b[0m\u001b[0;34m(\u001b[0m\u001b[0mmax\u001b[0m\u001b[0;34m(\u001b[0m\u001b[0marr_cost\u001b[0m\u001b[0;34m)\u001b[0m\u001b[0;34m)\u001b[0m\u001b[0;34m\u001b[0m\u001b[0;34m\u001b[0m\u001b[0m\n",
            "\u001b[0;31mNameError\u001b[0m: name 'databinning' is not defined"
          ]
        }
      ]
    },
    {
      "cell_type": "code",
      "metadata": {
        "id": "_k64LXpioVvn",
        "colab_type": "code",
        "colab": {}
      },
      "source": [
        "def hitungcoba(angka, angka2):\n",
        "  datadata = 0\n",
        "  datadata2 = 0\n",
        "  for d in datall['TVR (One digit)']:\n",
        "    # datadata = datadata + 1    \n",
        "    # datadata = datadata + d\n",
        "    if int(d) < angka :\n",
        "      datadata = datadata + 1    \n",
        "    if int(d) < angka2 :\n",
        "      datadata2 = datadata2 + 1    \n",
        "  print(\"Data lebih dari \" + str(angka) + \" kurang dari \" + str(angka2) + \" adalah \" + str(datadata2-datadata))\n",
        "\n",
        "# def hitungcobaa(angka, angka2):\n",
        "#   datadata = 0\n",
        "#   for d in datall['TVR (One digit)']:\n",
        "#     if d > angka and d < angka2 :\n",
        "#       datadata = datadata + 1    \n",
        "#   # print(\"Data lebih dari \" + str(angka) + \" kurang dari \" + str(angka2) + \" adalah \" + str(datadata))\n",
        "#   return datadata\n",
        "\n",
        "# def kurangdarinol(angka):\n",
        "#   datadata = 0\n",
        "#   for d in datall['TVR (One digit)']:\n",
        "#     if d < angka:\n",
        "#       datadata = datadata + 1    \n",
        "#   print(\"Data  kurang dari \" + str(angka) + \" adalah \" + str(datadata))\n",
        "  \n",
        "\n",
        "# total = 0\n",
        "# # kurangdarinol(0)\n",
        "# for i in range(0,13,1):\n",
        "#   # hitungcoba(i,i+1)\n",
        "#   total = total + hitungcobaa(i,i+1)\n",
        "# print(total)\n",
        "\n",
        "# print(len(datall['TVR']))\n"
      ],
      "execution_count": 0,
      "outputs": []
    },
    {
      "cell_type": "code",
      "metadata": {
        "id": "ymYsuo8Gk3bQ",
        "colab_type": "code",
        "outputId": "6184f55b-1e34-43bd-c530-01d3c25678c0",
        "colab": {
          "base_uri": "https://localhost:8080/",
          "height": 267
        }
      },
      "source": [
        "datall['TVR (One digit)'].value_counts(normalize=True)"
      ],
      "execution_count": 0,
      "outputs": [
        {
          "output_type": "execute_result",
          "data": {
            "text/plain": [
              "2     0.351922\n",
              "1     0.275767\n",
              "3     0.133225\n",
              "0     0.128184\n",
              "4     0.083536\n",
              "5     0.019804\n",
              "6     0.005986\n",
              "7     0.000630\n",
              "10    0.000315\n",
              "11    0.000225\n",
              "9     0.000225\n",
              "12    0.000135\n",
              "8     0.000045\n",
              "Name: TVR (One digit), dtype: float64"
            ]
          },
          "metadata": {
            "tags": []
          },
          "execution_count": 58
        }
      ]
    },
    {
      "cell_type": "code",
      "metadata": {
        "id": "4pvSMtzmk6NM",
        "colab_type": "code",
        "colab": {}
      },
      "source": [
        ""
      ],
      "execution_count": 0,
      "outputs": []
    },
    {
      "cell_type": "code",
      "metadata": {
        "id": "0ZYLhbW1aryd",
        "colab_type": "code",
        "outputId": "a1cf036d-4141-455b-9ead-e763fa5b52fe",
        "colab": {
          "base_uri": "https://localhost:8080/",
          "height": 317
        }
      },
      "source": [
        "datall.hist(column=\"TVR (One digit)\")"
      ],
      "execution_count": 0,
      "outputs": [
        {
          "output_type": "execute_result",
          "data": {
            "text/plain": [
              "array([[<matplotlib.axes._subplots.AxesSubplot object at 0x7fbc2af219e8>]],\n",
              "      dtype=object)"
            ]
          },
          "metadata": {
            "tags": []
          },
          "execution_count": 59
        },
        {
          "output_type": "display_data",
          "data": {
            "image/png": "[encoded data removed]",
            "text/plain": [
              "<Figure size 432x288 with 1 Axes>"
            ]
          },
          "metadata": {
            "tags": []
          }
        }
      ]
    },
    {
      "cell_type": "code",
      "metadata": {
        "id": "KckIqeVClR4X",
        "colab_type": "code",
        "outputId": "5f380c78-3fbb-44f1-ce98-8551a450c51d",
        "colab": {
          "base_uri": "https://localhost:8080/",
          "height": 317
        }
      },
      "source": [
        "datall.hist(column=\"TVR (One digit)\",bins=10)"
      ],
      "execution_count": 0,
      "outputs": [
        {
          "output_type": "execute_result",
          "data": {
            "text/plain": [
              "array([[<matplotlib.axes._subplots.AxesSubplot object at 0x7fbc2988bdd8>]],\n",
              "      dtype=object)"
            ]
          },
          "metadata": {
            "tags": []
          },
          "execution_count": 70
        },
        {
          "output_type": "display_data",
          "data": {
            "image/png": "[encoded data removed]",
            "text/plain": [
              "<Figure size 432x288 with 1 Axes>"
            ]
          },
          "metadata": {
            "tags": []
          }
        }
      ]
    },
    {
      "cell_type": "code",
      "metadata": {
        "id": "z8cIknVogO2G",
        "colab_type": "code",
        "outputId": "7b545011-abc2-4b33-a13c-dbcf0af933e3",
        "colab": {
          "base_uri": "https://localhost:8080/",
          "height": 53
        }
      },
      "source": [
        "print(datall['TVR (One digit)'].unique())\n",
        "print(\"Total TVR : \" + str(datall['TVR'].unique().size))"
      ],
      "execution_count": 0,
      "outputs": [
        {
          "output_type": "stream",
          "text": [
            "[ 2  1  4  3  0  5  6  7  8  9 10 12 11]\n",
            "Total TVR : 152\n"
          ],
          "name": "stdout"
        }
      ]
    },
    {
      "cell_type": "code",
      "metadata": {
        "id": "_T7qrRaifvjV",
        "colab_type": "code",
        "outputId": "44784b35-953e-447e-e15a-8996bff33f35",
        "colab": {
          "base_uri": "https://localhost:8080/",
          "height": 35
        }
      },
      "source": [
        "print(\"Total TVR : \" + str(datall['Cost'].unique().size))"
      ],
      "execution_count": 0,
      "outputs": [
        {
          "output_type": "stream",
          "text": [
            "Total TVR : 254\n"
          ],
          "name": "stdout"
        }
      ]
    },
    {
      "cell_type": "code",
      "metadata": {
        "id": "Uv-6flwQZd2O",
        "colab_type": "code",
        "colab": {}
      },
      "source": [
        ""
      ],
      "execution_count": 0,
      "outputs": []
    },
    {
      "cell_type": "code",
      "metadata": {
        "id": "uDYpfGe7Yzkv",
        "colab_type": "code",
        "colab": {}
      },
      "source": [
        "# # normalisasi duration\n",
        "\n",
        "# # Create x, where x the 'scores' column's values as floats\n",
        "# x_duration = datall[['Duration (second)']].values.astype(float)\n",
        "\n",
        "# # Create a minimum and maximum processor object\n",
        "# min_max_scaler = preprocessing.MinMaxScaler()\n",
        "\n",
        "# # Create an object to transform the data to fit minmax processor\n",
        "# duration_scaled = min_max_scaler.fit_transform(x_duration)\n",
        "\n",
        "# # Run the normalizer on the dataframe\n",
        "# datall['Duration (Normalized)'] = duration_scaled\n",
        "# datall.head()"
      ],
      "execution_count": 0,
      "outputs": []
    },
    {
      "cell_type": "code",
      "metadata": {
        "id": "1WCJJ7O_PnYf",
        "colab_type": "code",
        "colab": {}
      },
      "source": [
        "# # buat tvr\n",
        "# # normalisasi tvr\n",
        "\n",
        "# # Create x, where x the 'scores' column's values as floats\n",
        "# x_tvr = datall[['TVR (One digit)']].values.astype(float)\n",
        "\n",
        "# # Create a minimum and maximum processor object\n",
        "# min_max_scaler = preprocessing.MinMaxScaler()\n",
        "\n",
        "# # Create an object to transform the data to fit minmax processor\n",
        "# tvr_scaled = min_max_scaler.fit_transform(x_tvr)\n",
        "\n",
        "# # Run the normalizer on the dataframe\n",
        "# datall['TVR (Normalized)'] = tvr_scaled\n",
        "# datall.head()"
      ],
      "execution_count": 0,
      "outputs": []
    },
    {
      "cell_type": "code",
      "metadata": {
        "id": "dFLJtzIjTk7G",
        "colab_type": "code",
        "colab": {}
      },
      "source": [
        "# # Hapus data yang belum di normalisasi\n",
        "\n",
        "# if  'Cost' in datall.columns:\n",
        "#   datall = datall.drop('Cost',1)\n",
        "#   # datall = datall.rename(columns={'Date (Day)': 'Date'})\n",
        "\n",
        "# if  'Duration (second)' in datall.columns:\n",
        "#   datall = datall.drop('Duration (second)',1)\n",
        "#   # datall = datall.rename(columns={'Date (Day)': 'Date'})\n",
        "\n",
        "# if  'TVR (One digit)' in datall.columns:\n",
        "#   datall = datall.drop('TVR (One digit)',1)\n",
        "#   # datall = datall.rename(columns={'Date (Day)': 'Date'})\n",
        "\n",
        "# datall.head()"
      ],
      "execution_count": 0,
      "outputs": []
    },
    {
      "cell_type": "code",
      "metadata": {
        "id": "vhEAOQhYYxQd",
        "colab_type": "code",
        "colab": {}
      },
      "source": [
        ""
      ],
      "execution_count": 0,
      "outputs": []
    },
    {
      "cell_type": "code",
      "metadata": {
        "id": "GDw8L9qsdhTJ",
        "colab_type": "code",
        "colab": {}
      },
      "source": [
        "# from collections import Counter\n",
        "# from scipy.stats import entropy\n",
        "# import math\n",
        "\n",
        "\n",
        "# def info_gain(Ex, a, nan=True):\n",
        "#     \"\"\" Compute the information gain of an attribute a for given examples.\n",
        "#         Parameters\n",
        "#         ----------\n",
        "#         Ex : list of hashable\n",
        "#             A list of hashable objects (examples)\n",
        "#             corresponding to the given attributes a.\n",
        "#             I.e. a[i] <--> Ex[i].\n",
        "#         a : list of hashable\n",
        "#             A list of hashable objects (attributes)\n",
        "#             corresponding to the given examples Ex.\n",
        "#             I.e. a[i] <--> Ex[i].\n",
        "            \n",
        "#         nan : boolean, default=True\n",
        "#             Boolean indicating how nan==nan should be evaluated.\n",
        "#             Default == True to avoid division by 0 errors.\n",
        "#         Returns\n",
        "#         -------\n",
        "#         result : float\n",
        "#             Information gain by knowing given attributes.\n",
        "#         \"\"\"\n",
        "#     # Check whether examples and attributes have the same lengths.\n",
        "#     if len(Ex) != len(a):\n",
        "#         raise ValueError(\"Ex and a must be of the same size.\")\n",
        "\n",
        "#     # Compute the entropy of examples\n",
        "#     H_Ex = entropy(list(Counter(Ex).values()))\n",
        "\n",
        "#     # If nan is True, replace all nan values in a by the string \"__nan__\"\n",
        "#     if nan:\n",
        "#         a = ['__nan__' if isinstance(x, float) and math.isnan(x) else x for x in a]\n",
        "    \n",
        "#     # Compute the sum of all values v in a\n",
        "#     sum_v = 0\n",
        "#     for v in set(a):\n",
        "#         Ex_a_v = [x for x, t in zip(Ex, a) if t == v]\n",
        "#         sum_v += (len(Ex_a_v) / len(Ex)) *\\\n",
        "#                  (entropy(list(Counter(Ex_a_v).values())))\n",
        "\n",
        "#     # Return result\n",
        "#     return H_Ex - sum_v\n",
        "  "
      ],
      "execution_count": 0,
      "outputs": []
    },
    {
      "cell_type": "code",
      "metadata": {
        "id": "XQfcBk8aSFC1",
        "colab_type": "code",
        "colab": {}
      },
      "source": [
        "# from collections import Counter\n",
        "# from scipy.stats import entropy\n",
        "# import math\n",
        "\n",
        "# def info_gain(Ex, a, nan=True):\n",
        "#     # Check whether examples and attributes have the same lengths.\n",
        "#     if len(Ex) != len(a):\n",
        "#         raise ValueError(\"Ex and a must be of the same size.\")\n",
        "\n",
        "#     # Compute the entropy of examples\n",
        "#     H_Ex = entropy(list(Counter(Ex).values()))\n",
        "\n",
        "#     # If nan is True, replace all nan values in a by the string \"__nan__\"\n",
        "#     if nan:\n",
        "#         a = ['__nan__' if isinstance(x, float) and math.isnan(x) else x for x in a]\n",
        "    \n",
        "#     # Compute the sum of all values v in a\n",
        "#     sum_v = 0\n",
        "#     for v in set(a):\n",
        "#         Ex_a_v = [x for x, t in zip(Ex, a) if t == v]\n",
        "#         sum_v += (len(Ex_a_v) / len(Ex)) *\\\n",
        "#                  (entropy(list(Counter(Ex_a_v).values())))\n",
        "\n",
        "#     # Return result\n",
        "#     return H_Ex - sum_v\n",
        "  "
      ],
      "execution_count": 0,
      "outputs": []
    },
    {
      "cell_type": "code",
      "metadata": {
        "id": "5OPsVPO_dmqY",
        "colab_type": "code",
        "outputId": "fb29bd4a-e3da-4bec-a8d6-4b36f4f6a594",
        "colab": {
          "base_uri": "https://localhost:8080/",
          "height": 88
        }
      },
      "source": [
        "# print (datall.columns)\n",
        "# datall.to_excel(\"[Hasil Transformation] Ads_Performance_Instan Noodle_Food (All).xlsx\")  "
      ],
      "execution_count": 0,
      "outputs": [
        {
          "output_type": "stream",
          "text": [
            "Index(['Channel', 'Program', 'Product', 'Ads Type', 'Date (Day)',\n",
            "       'Start Time (hour)', 'Cost (Normalized)', 'Duration (Normalized)',\n",
            "       'TVR (Normalized)'],\n",
            "      dtype='object')\n"
          ],
          "name": "stdout"
        }
      ]
    },
    {
      "cell_type": "code",
      "metadata": {
        "id": "o36VcLzMdn7q",
        "colab_type": "code",
        "outputId": "69c4a682-ee55-4a18-e68d-f0f6d86996a8",
        "colab": {
          "base_uri": "https://localhost:8080/",
          "height": 196
        }
      },
      "source": [
        "# print('Nilai Information Gain dengan atribut target TVR')\n",
        "# data_attribut = []\n",
        "# nilai_ig = []\n",
        "# for i in datall.columns:\n",
        "#   ig  = info_gain(datall['TVR (Normalized)'], datall[i])\n",
        "#   data_attribut.append(i)\n",
        "#   nilai_ig.append(ig)\n",
        "\n",
        "# for i in range(len(datall.columns)):\n",
        "#   print(str(data_attribut[i]) + '=' + str(nilai_ig[i]))"
      ],
      "execution_count": 0,
      "outputs": [
        {
          "output_type": "stream",
          "text": [
            "Nilai Information Gain dengan atribut target TVR\n",
            "Channel=0.3999375536141141\n",
            "Program=0.8366478967179182\n",
            "Product=0.17409690711959924\n",
            "Ads Type=0.09175033081504247\n",
            "Date (Day)=0.006803667751990705\n",
            "Start Time (hour)=0.3671714506513346\n",
            "Cost (Normalized)=0.6298732239452287\n",
            "Duration (Normalized)=0.0457199842130096\n",
            "TVR (Normalized)=1.5829433799282504\n"
          ],
          "name": "stdout"
        }
      ]
    },
    {
      "cell_type": "code",
      "metadata": {
        "id": "so7EQF3igUAX",
        "colab_type": "code",
        "outputId": "53f44748-da73-4d2a-8d06-33c4f48d09df",
        "colab": {
          "base_uri": "https://localhost:8080/",
          "height": 196
        }
      },
      "source": [
        "# print('Nilai Information Gain dengan atribut target Cost')\n",
        "# data_attribut_cost = []\n",
        "# nilai_ig_cost = []\n",
        "# for i in datall.columns:\n",
        "#   ig  = info_gain(datall['Cost (Normalized)'], datall[i])\n",
        "#   data_attribut_cost.append(i)\n",
        "#   nilai_ig_cost.append(ig)\n",
        "\n",
        "# for i in range(len(datall.columns)):\n",
        "#   print(str(data_attribut_cost[i]) + '=' + str(nilai_ig_cost[i]))"
      ],
      "execution_count": 0,
      "outputs": [
        {
          "output_type": "stream",
          "text": [
            "Nilai Information Gain dengan atribut target Cost\n",
            "Channel=1.4948648944760698\n",
            "Program=2.6865591955740813\n",
            "Product=0.8200412243741226\n",
            "Ads Type=0.7029207478208912\n",
            "Date (Day)=0.13940485427711113\n",
            "Start Time (hour)=1.1408563208752387\n",
            "Cost (Normalized)=3.8468304489775904\n",
            "Duration (Normalized)=1.2999141417457256\n",
            "TVR (Normalized)=0.6298732239452289\n"
          ],
          "name": "stdout"
        }
      ]
    },
    {
      "cell_type": "code",
      "metadata": {
        "id": "G9zOvlzTPVtP",
        "colab_type": "code",
        "colab": {}
      },
      "source": [
        "# print(datall['Duration (second)'].unique())\n",
        "# print(datall['Duration (second)'].unique().size)"
      ],
      "execution_count": 0,
      "outputs": []
    },
    {
      "cell_type": "code",
      "metadata": {
        "id": "j_b1Z6I0YtlC",
        "colab_type": "code",
        "colab": {}
      },
      "source": [
        ""
      ],
      "execution_count": 0,
      "outputs": []
    },
    {
      "cell_type": "code",
      "metadata": {
        "id": "CQnO2ecxQ0_g",
        "colab_type": "code",
        "colab": {}
      },
      "source": [
        "# # Formating Duration jadi 1 sampai 5 menit 1 , 2 , 3 , 4, 5\n",
        "# # 1 = kurang dari 1\n",
        "# # 2 = kurang dari 2\n",
        "# # 3 = kurang dari 3\n",
        "# # 4 = kurang dari 4\n",
        "# # 5 = kurang dari 5\n",
        "# # 6 = lebih dari 5\n",
        "# duration_one_un_five = []\n",
        "# totaldatadur = datall['Duration (second)'].unique().size\n",
        "# # print(totaldatadur)\n",
        "\n",
        "# if totaldatadur == 154:\n",
        "#   for d in datall['Duration (second)']:\n",
        "#     if d > 0 and d <= 60:\n",
        "#       duration_one_un_five.append('1')\n",
        "#     elif d > 60 and d <= 120:\n",
        "#       duration_one_un_five.append('2')\n",
        "#     elif d > 120 and d <= 180:\n",
        "#       duration_one_un_five.append('3')  \n",
        "#     elif d > 180 and d <= 240:\n",
        "#       duration_one_un_five.append('4')  \n",
        "#     elif d > 240 and d <= 300:\n",
        "#       duration_one_un_five.append('5')  \n",
        "#     elif d > 300:\n",
        "#       duration_one_un_five.append('6')\n",
        "\n",
        "# if len(duration_one_un_five) > 0:\n",
        "#   datall['Duration (minute)'] = duration_one_un_five\n",
        "# datall.head()"
      ],
      "execution_count": 0,
      "outputs": []
    },
    {
      "cell_type": "code",
      "metadata": {
        "id": "QHNUV8e0bU6Y",
        "colab_type": "code",
        "colab": {}
      },
      "source": [
        "# # Data Discret harus pake metode\n",
        "# # datall['Duration (second)'].value_counts()\n",
        "# datall['TVR (One digit)'].value_counts()"
      ],
      "execution_count": 0,
      "outputs": []
    },
    {
      "cell_type": "code",
      "metadata": {
        "id": "oIxRlPb-nOt7",
        "colab_type": "code",
        "colab": {}
      },
      "source": [
        "# datall['Ads Type'].value_counts()"
      ],
      "execution_count": 0,
      "outputs": []
    },
    {
      "cell_type": "code",
      "metadata": {
        "id": "yqO7kVrrs8tZ",
        "colab_type": "code",
        "colab": {}
      },
      "source": [
        "# min max normalization -> data discret"
      ],
      "execution_count": 0,
      "outputs": []
    }
  ]
}