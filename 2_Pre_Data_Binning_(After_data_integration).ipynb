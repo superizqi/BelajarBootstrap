{
  "nbformat": 4,
  "nbformat_minor": 0,
  "metadata": {
    "colab": {
      "name": "2. Pre Data Binning (After data integration).ipynb",
      "provenance": [],
      "authorship_tag": "ABX9TyNtndlnkKlQDn5OQj7xY315",
      "include_colab_link": true
    },
    "kernelspec": {
      "name": "python3",
      "display_name": "Python 3"
    }
  },
  "cells": [
    {
      "cell_type": "markdown",
      "metadata": {
        "id": "view-in-github",
        "colab_type": "text"
      },
      "source": [
        "<a href=\"https://colab.research.google.com/github/superizqi/BelajarBootstrap/blob/master/2_Pre_Data_Binning_(After_data_integration).ipynb\" target=\"_parent\"><img src=\"https://colab.research.google.com/assets/colab-badge.svg\" alt=\"Open In Colab\"/></a>"
      ]
    },
    {
      "cell_type": "code",
      "metadata": {
        "id": "B9Av-AaF4XLV",
        "colab_type": "code",
        "outputId": "2afff9b2-19ac-4202-fb8b-c7a345de77fb",
        "colab": {
          "resources": {
            "http://localhost:8080/nbextensions/google.colab/files.js": {
              "data": "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",
              "ok": true,
              "headers": [
                [
                  "content-type",
                  "application/javascript"
                ]
              ],
              "status": 200,
              "status_text": "OK"
            }
          },
          "base_uri": "https://localhost:8080/",
          "height": 76
        }
      },
      "source": [
        "import pandas as pd\n",
        "import matplotlib.pyplot as plt\n",
        "import numpy as np\n",
        "import io\n",
        "\n",
        "from sklearn import preprocessing\n",
        "\n",
        "#Uploading file\n",
        "from pydrive.auth import GoogleAuth \n",
        "from pydrive.drive import GoogleDrive\n",
        "from google.colab import files\n",
        "uploaded = files.upload()"
      ],
      "execution_count": 0,
      "outputs": [
        {
          "output_type": "display_data",
          "data": {
            "text/html": [
              "\n",
              "     <input type=\"file\" id=\"files-2c6564c4-fca6-46d5-9103-348c35ef06cb\" name=\"files[]\" multiple disabled />\n",
              "     <output id=\"result-2c6564c4-fca6-46d5-9103-348c35ef06cb\">\n",
              "      Upload widget is only available when the cell has been executed in the\n",
              "      current browser session. Please rerun this cell to enable.\n",
              "      </output>\n",
              "      <script src=\"/nbextensions/google.colab/files.js\"></script> "
            ],
            "text/plain": [
              "<IPython.core.display.HTML object>"
            ]
          },
          "metadata": {
            "tags": []
          }
        },
        {
          "output_type": "stream",
          "text": [
            "Saving [Hasil Integration] Ads_Performance_Instan Noodle_Food (All).xlsx to [Hasil Integration] Ads_Performance_Instan Noodle_Food (All) (1).xlsx\n"
          ],
          "name": "stdout"
        }
      ]
    },
    {
      "cell_type": "code",
      "metadata": {
        "id": "dddSBbLh4dTg",
        "colab_type": "code",
        "outputId": "38841015-8a7a-4755-c0e4-ef1b89d4f3a0",
        "colab": {
          "base_uri": "https://localhost:8080/",
          "height": 206
        }
      },
      "source": [
        "# Baca File \n",
        "namafile = '[Hasil Integration] Ads_Performance_Instan Noodle_Food (All).xlsx'\n",
        "datall = pd.read_excel(namafile)\n",
        "datall = datall.drop(['Unnamed: 0','No'],axis=1)\n",
        "#Lihat data\n",
        "datall.head()"
      ],
      "execution_count": 0,
      "outputs": [
        {
          "output_type": "execute_result",
          "data": {
            "text/html": [
              "<div>\n",
              "<style scoped>\n",
              "    .dataframe tbody tr th:only-of-type {\n",
              "        vertical-align: middle;\n",
              "    }\n",
              "\n",
              "    .dataframe tbody tr th {\n",
              "        vertical-align: top;\n",
              "    }\n",
              "\n",
              "    .dataframe thead th {\n",
              "        text-align: right;\n",
              "    }\n",
              "</style>\n",
              "<table border=\"1\" class=\"dataframe\">\n",
              "  <thead>\n",
              "    <tr style=\"text-align: right;\">\n",
              "      <th></th>\n",
              "      <th>Date</th>\n",
              "      <th>Channel</th>\n",
              "      <th>Program</th>\n",
              "      <th>Product</th>\n",
              "      <th>Ads Type</th>\n",
              "      <th>Start Time</th>\n",
              "      <th>Duration</th>\n",
              "      <th>Cost</th>\n",
              "      <th>TVR</th>\n",
              "    </tr>\n",
              "  </thead>\n",
              "  <tbody>\n",
              "    <tr>\n",
              "      <th>0</th>\n",
              "      <td>2019-01-10 00:00:00</td>\n",
              "      <td>ANTV</td>\n",
              "      <td>ISHQ MEIN MARJAWAN</td>\n",
              "      <td>POP MIE - INSTANT NOODLE</td>\n",
              "      <td>TEMPLATE</td>\n",
              "      <td>13:12:48</td>\n",
              "      <td>00:00:11</td>\n",
              "      <td>36000.0</td>\n",
              "      <td>1.70</td>\n",
              "    </tr>\n",
              "    <tr>\n",
              "      <th>1</th>\n",
              "      <td>2019-01-10 00:00:00</td>\n",
              "      <td>ANTV</td>\n",
              "      <td>ISHQ MEIN MARJAWAN</td>\n",
              "      <td>POP MIE - INSTANT NOODLE</td>\n",
              "      <td>VIRTUAL ADS</td>\n",
              "      <td>13:12:49</td>\n",
              "      <td>00:00:08</td>\n",
              "      <td>25159.0</td>\n",
              "      <td>1.70</td>\n",
              "    </tr>\n",
              "    <tr>\n",
              "      <th>2</th>\n",
              "      <td>2019-01-10 00:00:00</td>\n",
              "      <td>MNCTV</td>\n",
              "      <td>UPIN &amp; IPIN BERMULA</td>\n",
              "      <td>SUPER BUBUR - INSTANT PORRIDGE</td>\n",
              "      <td>SQUEEZE FRAME</td>\n",
              "      <td>18:38:41</td>\n",
              "      <td>00:00:24</td>\n",
              "      <td>63000.0</td>\n",
              "      <td>1.70</td>\n",
              "    </tr>\n",
              "    <tr>\n",
              "      <th>3</th>\n",
              "      <td>2019-01-10 00:00:00</td>\n",
              "      <td>MNCTV</td>\n",
              "      <td>FATIH DI KAMPUNG JAWARA 2</td>\n",
              "      <td>MIGELAS JUMBO - INSTANT NOODLE</td>\n",
              "      <td>BUILT IN SEGMEN</td>\n",
              "      <td>20:14:43</td>\n",
              "      <td>00:02:30</td>\n",
              "      <td>325000.0</td>\n",
              "      <td>1.15</td>\n",
              "    </tr>\n",
              "    <tr>\n",
              "      <th>4</th>\n",
              "      <td>2019-01-10 00:00:00</td>\n",
              "      <td>RCTI</td>\n",
              "      <td>OGAH RUGI</td>\n",
              "      <td>POP MIE - INSTANT NOODLE</td>\n",
              "      <td>VIRTUAL ADS</td>\n",
              "      <td>15:14:21</td>\n",
              "      <td>00:00:15</td>\n",
              "      <td>48000.0</td>\n",
              "      <td>1.40</td>\n",
              "    </tr>\n",
              "  </tbody>\n",
              "</table>\n",
              "</div>"
            ],
            "text/plain": [
              "                  Date Channel  ...      Cost   TVR\n",
              "0  2019-01-10 00:00:00    ANTV  ...   36000.0  1.70\n",
              "1  2019-01-10 00:00:00    ANTV  ...   25159.0  1.70\n",
              "2  2019-01-10 00:00:00   MNCTV  ...   63000.0  1.70\n",
              "3  2019-01-10 00:00:00   MNCTV  ...  325000.0  1.15\n",
              "4  2019-01-10 00:00:00    RCTI  ...   48000.0  1.40\n",
              "\n",
              "[5 rows x 9 columns]"
            ]
          },
          "metadata": {
            "tags": []
          },
          "execution_count": 57
        }
      ]
    },
    {
      "cell_type": "code",
      "metadata": {
        "id": "7psLAId2gipz",
        "colab_type": "code",
        "colab": {}
      },
      "source": [
        "# Start method support for data binning\n",
        "def equifreq(arr1, m): \n",
        "    # Binning by Frequency/Means\n",
        "    a = len(arr1)\n",
        "    arr1 = np.sort(arr1) \n",
        "    n = int(a / m) \n",
        "    databin = []\n",
        "    for i in range(0, m): \n",
        "        arr = [] \n",
        "        for j in range(i * n, (i + 1) * n): \n",
        "            if j >= a: \n",
        "                break\n",
        "            arr = arr + [arr1[j]] \n",
        "        # print(arr) \n",
        "        print(f'Total {len(arr)}')\n",
        "        print(f'Sum of all the elements is {np.sum(arr)}')\n",
        "        print(\"mean of arr : \", np.mean(arr))\n",
        "\n",
        "def firstcheck(datacost):\n",
        "  print(\"Cek first condition\")\n",
        "  cek = 0\n",
        "  cektotal = 0\n",
        "  datacost = np.sort(datacost)\n",
        "  for i in range(0,3703,1):\n",
        "    cek = cek + datacost[i]\n",
        "    cektotal = cektotal + 1\n",
        "  print(\"Frequency data = \" + str(cektotal))\n",
        "  print(\"Sum of data = \" + str(cek))\n",
        "  print(\"Mean of data = \" + str(cek/3703))\n",
        "\n",
        "def readdata(namakolom):\n",
        "  datanya = []\n",
        "  for d in datall[namakolom]:\n",
        "    datanya.append(d)\n",
        "  return datanya\n",
        "\n",
        "# End method support for data binning"
      ],
      "execution_count": 0,
      "outputs": []
    },
    {
      "cell_type": "code",
      "metadata": {
        "id": "rXJnYAYm4nQm",
        "colab_type": "code",
        "outputId": "fff62b6c-9036-4e37-dfed-7534a3b90daf",
        "colab": {
          "base_uri": "https://localhost:8080/",
          "height": 310
        }
      },
      "source": [
        "# Tambah TVR yang dibulatkan\n",
        "tvr_round = []\n",
        "\n",
        "for d in datall['TVR']:\n",
        "  tvr_round.append(int(round(d)))\n",
        "  \n",
        "datall['TVR (One digit)'] = tvr_round\n",
        "datall.head()"
      ],
      "execution_count": 0,
      "outputs": [
        {
          "output_type": "execute_result",
          "data": {
            "text/html": [
              "<div>\n",
              "<style scoped>\n",
              "    .dataframe tbody tr th:only-of-type {\n",
              "        vertical-align: middle;\n",
              "    }\n",
              "\n",
              "    .dataframe tbody tr th {\n",
              "        vertical-align: top;\n",
              "    }\n",
              "\n",
              "    .dataframe thead th {\n",
              "        text-align: right;\n",
              "    }\n",
              "</style>\n",
              "<table border=\"1\" class=\"dataframe\">\n",
              "  <thead>\n",
              "    <tr style=\"text-align: right;\">\n",
              "      <th></th>\n",
              "      <th>Date</th>\n",
              "      <th>Channel</th>\n",
              "      <th>Program</th>\n",
              "      <th>Product</th>\n",
              "      <th>Ads Type</th>\n",
              "      <th>Start Time</th>\n",
              "      <th>Duration</th>\n",
              "      <th>Cost</th>\n",
              "      <th>TVR</th>\n",
              "      <th>TVR (One digit)</th>\n",
              "    </tr>\n",
              "  </thead>\n",
              "  <tbody>\n",
              "    <tr>\n",
              "      <th>0</th>\n",
              "      <td>2019-01-10 00:00:00</td>\n",
              "      <td>ANTV</td>\n",
              "      <td>ISHQ MEIN MARJAWAN</td>\n",
              "      <td>POP MIE - INSTANT NOODLE</td>\n",
              "      <td>TEMPLATE</td>\n",
              "      <td>13:12:48</td>\n",
              "      <td>00:00:11</td>\n",
              "      <td>36000.0</td>\n",
              "      <td>1.70</td>\n",
              "      <td>2</td>\n",
              "    </tr>\n",
              "    <tr>\n",
              "      <th>1</th>\n",
              "      <td>2019-01-10 00:00:00</td>\n",
              "      <td>ANTV</td>\n",
              "      <td>ISHQ MEIN MARJAWAN</td>\n",
              "      <td>POP MIE - INSTANT NOODLE</td>\n",
              "      <td>VIRTUAL ADS</td>\n",
              "      <td>13:12:49</td>\n",
              "      <td>00:00:08</td>\n",
              "      <td>25159.0</td>\n",
              "      <td>1.70</td>\n",
              "      <td>2</td>\n",
              "    </tr>\n",
              "    <tr>\n",
              "      <th>2</th>\n",
              "      <td>2019-01-10 00:00:00</td>\n",
              "      <td>MNCTV</td>\n",
              "      <td>UPIN &amp; IPIN BERMULA</td>\n",
              "      <td>SUPER BUBUR - INSTANT PORRIDGE</td>\n",
              "      <td>SQUEEZE FRAME</td>\n",
              "      <td>18:38:41</td>\n",
              "      <td>00:00:24</td>\n",
              "      <td>63000.0</td>\n",
              "      <td>1.70</td>\n",
              "      <td>2</td>\n",
              "    </tr>\n",
              "    <tr>\n",
              "      <th>3</th>\n",
              "      <td>2019-01-10 00:00:00</td>\n",
              "      <td>MNCTV</td>\n",
              "      <td>FATIH DI KAMPUNG JAWARA 2</td>\n",
              "      <td>MIGELAS JUMBO - INSTANT NOODLE</td>\n",
              "      <td>BUILT IN SEGMEN</td>\n",
              "      <td>20:14:43</td>\n",
              "      <td>00:02:30</td>\n",
              "      <td>325000.0</td>\n",
              "      <td>1.15</td>\n",
              "      <td>1</td>\n",
              "    </tr>\n",
              "    <tr>\n",
              "      <th>4</th>\n",
              "      <td>2019-01-10 00:00:00</td>\n",
              "      <td>RCTI</td>\n",
              "      <td>OGAH RUGI</td>\n",
              "      <td>POP MIE - INSTANT NOODLE</td>\n",
              "      <td>VIRTUAL ADS</td>\n",
              "      <td>15:14:21</td>\n",
              "      <td>00:00:15</td>\n",
              "      <td>48000.0</td>\n",
              "      <td>1.40</td>\n",
              "      <td>1</td>\n",
              "    </tr>\n",
              "  </tbody>\n",
              "</table>\n",
              "</div>"
            ],
            "text/plain": [
              "                  Date Channel  ...   TVR TVR (One digit)\n",
              "0  2019-01-10 00:00:00    ANTV  ...  1.70               2\n",
              "1  2019-01-10 00:00:00    ANTV  ...  1.70               2\n",
              "2  2019-01-10 00:00:00   MNCTV  ...  1.70               2\n",
              "3  2019-01-10 00:00:00   MNCTV  ...  1.15               1\n",
              "4  2019-01-10 00:00:00    RCTI  ...  1.40               1\n",
              "\n",
              "[5 rows x 10 columns]"
            ]
          },
          "metadata": {
            "tags": []
          },
          "execution_count": 59
        }
      ]
    },
    {
      "cell_type": "code",
      "metadata": {
        "id": "qKMQecSy4sVE",
        "colab_type": "code",
        "outputId": "9416c5cf-4b8c-403c-f375-cffc875366eb",
        "colab": {
          "base_uri": "https://localhost:8080/",
          "height": 267
        }
      },
      "source": [
        "# datall['TVR (One digit)'].value_counts(ascending=True, dropna=False)\n",
        "datall['TVR (One digit)'].value_counts(sort=False)"
      ],
      "execution_count": 0,
      "outputs": [
        {
          "output_type": "execute_result",
          "data": {
            "text/plain": [
              "0     2847\n",
              "1     6123\n",
              "2     7803\n",
              "3     2941\n",
              "4     1845\n",
              "5      437\n",
              "6      131\n",
              "7       14\n",
              "8        1\n",
              "9        5\n",
              "10       7\n",
              "11       5\n",
              "12       3\n",
              "Name: TVR (One digit), dtype: int64"
            ]
          },
          "metadata": {
            "tags": []
          },
          "execution_count": 118
        }
      ]
    },
    {
      "cell_type": "code",
      "metadata": {
        "id": "qGByUL9T6vK3",
        "colab_type": "code",
        "outputId": "7d4236e9-c4b5-466e-b899-001401436bf7",
        "colab": {
          "base_uri": "https://localhost:8080/",
          "height": 142
        }
      },
      "source": [
        "# tutorial # https://towardsdatascience.com/getting-more-value-from-the-pandas-value-counts-aa17230907a6\n",
        "# Binning by value counts function from pandas\n",
        "datall['TVR (One digit)'].value_counts(bins=6)"
      ],
      "execution_count": 0,
      "outputs": [
        {
          "output_type": "execute_result",
          "data": {
            "text/plain": [
              "(-0.013000000000000001, 2.0]    16794\n",
              "(2.0, 4.0]                       4816\n",
              "(4.0, 6.0]                        573\n",
              "(6.0, 8.0]                         15\n",
              "(8.0, 10.0]                        12\n",
              "(10.0, 12.0]                        8\n",
              "Name: TVR (One digit), dtype: int64"
            ]
          },
          "metadata": {
            "tags": []
          },
          "execution_count": 61
        }
      ]
    },
    {
      "cell_type": "code",
      "metadata": {
        "id": "ElOmLEKh6-jW",
        "colab_type": "code",
        "outputId": "6fe9aa22-c104-4508-b06d-770a485fad59",
        "colab": {
          "base_uri": "https://localhost:8080/",
          "height": 410
        }
      },
      "source": [
        "# binning manual\n",
        "equifreq(readdata('TVR (One digit)'),6)\n",
        "firstcheck(readdata('TVR (One digit)'))\n",
        "# sepertinya kurang terbaca"
      ],
      "execution_count": 0,
      "outputs": [
        {
          "output_type": "stream",
          "text": [
            "Total 3703\n",
            "Sum of all the elements is 855\n",
            "mean of arr :  0.2308938698352687\n",
            "Total 3703\n",
            "Sum of all the elements is 3703\n",
            "mean of arr :  1.0\n",
            "Total 3703\n",
            "Sum of all the elements is 5837\n",
            "mean of arr :  1.5762894950040507\n",
            "Total 3703\n",
            "Sum of all the elements is 7406\n",
            "mean of arr :  2.0\n",
            "Total 3703\n",
            "Sum of all the elements is 9127\n",
            "mean of arr :  2.4647583040777747\n",
            "Total 3703\n",
            "Sum of all the elements is 14451\n",
            "mean of arr :  3.9025114771806644\n",
            "Cek first condition\n",
            "Frequency data = 3703\n",
            "Sum of data = 855\n",
            "Mean of data = 0.2308938698352687\n"
          ],
          "name": "stdout"
        }
      ]
    },
    {
      "cell_type": "code",
      "metadata": {
        "id": "gX4MPuiK-CvL",
        "colab_type": "code",
        "outputId": "daa97493-65f8-40d8-8b63-b1ea7015938a",
        "colab": {
          "base_uri": "https://localhost:8080/",
          "height": 310
        }
      },
      "source": [
        "# Akhirnya saya bagi menjadi 6 Bin, dengan pembagian 0-2,3-4,5-6,7-8,9-10,diatas 10\n",
        "databintvr = pd.cut(datall['TVR (One digit)'], bins=[0,2,4,6,8,10,12], labels=[int(1),int(2),int(3),int(4),int(5),int(6)])\n",
        "if  'TVR Group' in datall.columns:\n",
        "  datall = datall.drop('TVR Group',1)\n",
        "\n",
        "datall['TVR Group'] = databintvr\n",
        "datall.head()\n",
        "# datall['TVR Group'].head()"
      ],
      "execution_count": 0,
      "outputs": [
        {
          "output_type": "execute_result",
          "data": {
            "text/html": [
              "<div>\n",
              "<style scoped>\n",
              "    .dataframe tbody tr th:only-of-type {\n",
              "        vertical-align: middle;\n",
              "    }\n",
              "\n",
              "    .dataframe tbody tr th {\n",
              "        vertical-align: top;\n",
              "    }\n",
              "\n",
              "    .dataframe thead th {\n",
              "        text-align: right;\n",
              "    }\n",
              "</style>\n",
              "<table border=\"1\" class=\"dataframe\">\n",
              "  <thead>\n",
              "    <tr style=\"text-align: right;\">\n",
              "      <th></th>\n",
              "      <th>Date</th>\n",
              "      <th>Channel</th>\n",
              "      <th>Program</th>\n",
              "      <th>Product</th>\n",
              "      <th>Ads Type</th>\n",
              "      <th>Start Time</th>\n",
              "      <th>Duration</th>\n",
              "      <th>Cost</th>\n",
              "      <th>TVR</th>\n",
              "      <th>TVR (One digit)</th>\n",
              "      <th>TVR Group</th>\n",
              "    </tr>\n",
              "  </thead>\n",
              "  <tbody>\n",
              "    <tr>\n",
              "      <th>0</th>\n",
              "      <td>2019-01-10 00:00:00</td>\n",
              "      <td>ANTV</td>\n",
              "      <td>ISHQ MEIN MARJAWAN</td>\n",
              "      <td>POP MIE - INSTANT NOODLE</td>\n",
              "      <td>TEMPLATE</td>\n",
              "      <td>13:12:48</td>\n",
              "      <td>00:00:11</td>\n",
              "      <td>36000.0</td>\n",
              "      <td>1.70</td>\n",
              "      <td>2</td>\n",
              "      <td>1</td>\n",
              "    </tr>\n",
              "    <tr>\n",
              "      <th>1</th>\n",
              "      <td>2019-01-10 00:00:00</td>\n",
              "      <td>ANTV</td>\n",
              "      <td>ISHQ MEIN MARJAWAN</td>\n",
              "      <td>POP MIE - INSTANT NOODLE</td>\n",
              "      <td>VIRTUAL ADS</td>\n",
              "      <td>13:12:49</td>\n",
              "      <td>00:00:08</td>\n",
              "      <td>25159.0</td>\n",
              "      <td>1.70</td>\n",
              "      <td>2</td>\n",
              "      <td>1</td>\n",
              "    </tr>\n",
              "    <tr>\n",
              "      <th>2</th>\n",
              "      <td>2019-01-10 00:00:00</td>\n",
              "      <td>MNCTV</td>\n",
              "      <td>UPIN &amp; IPIN BERMULA</td>\n",
              "      <td>SUPER BUBUR - INSTANT PORRIDGE</td>\n",
              "      <td>SQUEEZE FRAME</td>\n",
              "      <td>18:38:41</td>\n",
              "      <td>00:00:24</td>\n",
              "      <td>63000.0</td>\n",
              "      <td>1.70</td>\n",
              "      <td>2</td>\n",
              "      <td>1</td>\n",
              "    </tr>\n",
              "    <tr>\n",
              "      <th>3</th>\n",
              "      <td>2019-01-10 00:00:00</td>\n",
              "      <td>MNCTV</td>\n",
              "      <td>FATIH DI KAMPUNG JAWARA 2</td>\n",
              "      <td>MIGELAS JUMBO - INSTANT NOODLE</td>\n",
              "      <td>BUILT IN SEGMEN</td>\n",
              "      <td>20:14:43</td>\n",
              "      <td>00:02:30</td>\n",
              "      <td>325000.0</td>\n",
              "      <td>1.15</td>\n",
              "      <td>1</td>\n",
              "      <td>1</td>\n",
              "    </tr>\n",
              "    <tr>\n",
              "      <th>4</th>\n",
              "      <td>2019-01-10 00:00:00</td>\n",
              "      <td>RCTI</td>\n",
              "      <td>OGAH RUGI</td>\n",
              "      <td>POP MIE - INSTANT NOODLE</td>\n",
              "      <td>VIRTUAL ADS</td>\n",
              "      <td>15:14:21</td>\n",
              "      <td>00:00:15</td>\n",
              "      <td>48000.0</td>\n",
              "      <td>1.40</td>\n",
              "      <td>1</td>\n",
              "      <td>1</td>\n",
              "    </tr>\n",
              "  </tbody>\n",
              "</table>\n",
              "</div>"
            ],
            "text/plain": [
              "                  Date Channel  ... TVR (One digit) TVR Group\n",
              "0  2019-01-10 00:00:00    ANTV  ...               2         1\n",
              "1  2019-01-10 00:00:00    ANTV  ...               2         1\n",
              "2  2019-01-10 00:00:00   MNCTV  ...               2         1\n",
              "3  2019-01-10 00:00:00   MNCTV  ...               1         1\n",
              "4  2019-01-10 00:00:00    RCTI  ...               1         1\n",
              "\n",
              "[5 rows x 11 columns]"
            ]
          },
          "metadata": {
            "tags": []
          },
          "execution_count": 66
        }
      ]
    },
    {
      "cell_type": "code",
      "metadata": {
        "id": "WigRq0E__C0o",
        "colab_type": "code",
        "outputId": "247a4220-e12d-443e-c6fc-a9e8bd56f6d5",
        "colab": {
          "base_uri": "https://localhost:8080/",
          "height": 142
        }
      },
      "source": [
        "datall['TVR Group'].value_counts()\n",
        "# datall.hist(column=\"TVR (One digit)\")"
      ],
      "execution_count": 0,
      "outputs": [
        {
          "output_type": "execute_result",
          "data": {
            "text/plain": [
              "1    13946\n",
              "2     4816\n",
              "3      573\n",
              "4       15\n",
              "5       12\n",
              "6        8\n",
              "Name: TVR Group, dtype: int64"
            ]
          },
          "metadata": {
            "tags": []
          },
          "execution_count": 71
        }
      ]
    },
    {
      "cell_type": "code",
      "metadata": {
        "id": "5HaEPQv-GvbY",
        "colab_type": "code",
        "outputId": "1e2b642b-d5e3-4d37-8534-86a7f1c98b00",
        "colab": {
          "base_uri": "https://localhost:8080/",
          "height": 142
        }
      },
      "source": [
        "# Start data binning untuk kolom cost\n",
        "# tutorial # https://towardsdatascience.com/getting-more-value-from-the-pandas-value-counts-aa17230907a6\n",
        "# Binning by value counts function from pandas\n",
        "datall['Cost'].value_counts(bins=6)"
      ],
      "execution_count": 0,
      "outputs": [
        {
          "output_type": "execute_result",
          "data": {
            "text/plain": [
              "(-2999.9010000000003, 500000.083]    22162\n",
              "(500000.083, 1000000.067]               46\n",
              "(1000000.067, 1500000.05]                5\n",
              "(2000000.033, 2500000.017]               2\n",
              "(1500000.05, 2000000.033]                2\n",
              "(2500000.017, 3000000.0]                 1\n",
              "Name: Cost, dtype: int64"
            ]
          },
          "metadata": {
            "tags": []
          },
          "execution_count": 80
        }
      ]
    },
    {
      "cell_type": "code",
      "metadata": {
        "id": "83nRiv1dpU0K",
        "colab_type": "code",
        "outputId": "c661065f-2eca-487b-ac91-9fa27af54dfc",
        "colab": {
          "base_uri": "https://localhost:8080/",
          "height": 53
        }
      },
      "source": [
        "# menghapus data pencilan\n",
        "\n",
        "if len(datall['Cost']) > 22162:\n",
        "  totaldata = 0 \n",
        "  for i in datall['Cost']:\n",
        "    # cek totalnya\n",
        "    if int(i) > 500000.083:\n",
        "      totaldata = totaldata + 1\n",
        "      # datall['Cost'].drop([i, inplace = True) \n",
        "  print(totaldata)\n",
        "  # print(len(datall['Cost']))\n",
        "  # ambil data\n",
        "  indexNames = datall[datall['Cost'] > 500000 ].index\n",
        "  # hapus data\n",
        "  datall.drop(indexNames , inplace=True)\n",
        "\n",
        "print(\"Before = \" + str(len(datall['Cost'])+56))\n",
        "print(\"After = \" + str(len(datall['Cost'])))"
      ],
      "execution_count": 0,
      "outputs": [
        {
          "output_type": "stream",
          "text": [
            "Before = 22218\n",
            "After = 22162\n"
          ],
          "name": "stdout"
        }
      ]
    },
    {
      "cell_type": "code",
      "metadata": {
        "id": "-65g0e9DtoYY",
        "colab_type": "code",
        "outputId": "2a57ea36-fa25-4ac3-bfe2-dc70b730c0fb",
        "colab": {
          "base_uri": "https://localhost:8080/",
          "height": 142
        }
      },
      "source": [
        "# Start data binning setelah direduksi untuk kolom cost\n",
        "# tutorial # https://towardsdatascience.com/getting-more-value-from-the-pandas-value-counts-aa17230907a6\n",
        "# Binning by value counts function from pandas\n",
        "datall['Cost'].value_counts(bins=6, sort=False)"
      ],
      "execution_count": 0,
      "outputs": [
        {
          "output_type": "execute_result",
          "data": {
            "text/plain": [
              "(-499.90099999999995, 83333.417]    21761\n",
              "(83333.417, 166666.733]               231\n",
              "(166666.733, 250000.05]                13\n",
              "(250000.05, 333333.367]                37\n",
              "(333333.367, 416666.683]               34\n",
              "(416666.683, 500000.0]                 86\n",
              "Name: Cost, dtype: int64"
            ]
          },
          "metadata": {
            "tags": []
          },
          "execution_count": 108
        }
      ]
    },
    {
      "cell_type": "code",
      "metadata": {
        "id": "IamFOmQw_Y20",
        "colab_type": "code",
        "outputId": "b74483ce-3c44-498b-b5dd-118e7566d094",
        "colab": {
          "base_uri": "https://localhost:8080/",
          "height": 410
        }
      },
      "source": [
        "# binning manual\n",
        "equifreq(readdata('Cost'),6)\n",
        "firstcheck(readdata('Cost'))"
      ],
      "execution_count": 0,
      "outputs": [
        {
          "output_type": "stream",
          "text": [
            "Total 3693\n",
            "Sum of all the elements is 47933587.64\n",
            "mean of arr :  12979.57964798267\n",
            "Total 3693\n",
            "Sum of all the elements is 78765793.8\n",
            "mean of arr :  21328.403411860276\n",
            "Total 3693\n",
            "Sum of all the elements is 106400275.8\n",
            "mean of arr :  28811.339236393174\n",
            "Total 3693\n",
            "Sum of all the elements is 142815172.2\n",
            "mean of arr :  38671.85816409423\n",
            "Total 3693\n",
            "Sum of all the elements is 184616498.89999998\n",
            "mean of arr :  49990.92848632547\n",
            "Total 3693\n",
            "Sum of all the elements is 300870824.0\n",
            "mean of arr :  81470.57243433523\n",
            "Cek first condition\n",
            "Frequency data = 3703\n",
            "Sum of data = 48113587.63999997\n",
            "Mean of data = 12993.137358898182\n"
          ],
          "name": "stdout"
        }
      ]
    },
    {
      "cell_type": "code",
      "metadata": {
        "id": "8s5gYz-97m3O",
        "colab_type": "code",
        "outputId": "bfbd08e4-ec0d-4f49-ce0f-9aabdfea1374",
        "colab": {
          "base_uri": "https://localhost:8080/",
          "height": 35
        }
      },
      "source": [
        "# Akhirnya saya bagi menjadi 6 Bin sesuai dengan yang dibagi secara default dari pandas karena lebih mudah dipahami\n",
        "# yaitu 0 - 80000, 80001 - 160000, 160001-240000, 240001 - 320000, 320001 - 400000, diatas 400000 \n",
        "databincost = pd.cut(datall['Cost'], bins=[0,80000,160000,240000,320000,400000,600000], labels=[int(1),int(2),int(3),int(4),int(5),int(6)])\n",
        "if  'Cost Group' in datall.columns:\n",
        "  datall = datall.drop('Cost Group',1)\n",
        "\n",
        "datall['Cost Group'] = databincost\n",
        "# datall.head()\n",
        "print(len(datall))"
      ],
      "execution_count": 0,
      "outputs": [
        {
          "output_type": "stream",
          "text": [
            "22162\n"
          ],
          "name": "stdout"
        }
      ]
    },
    {
      "cell_type": "code",
      "metadata": {
        "id": "NQNDdmzs5CuA",
        "colab_type": "code",
        "outputId": "40988654-1c80-4194-bc5a-81552558d453",
        "colab": {
          "base_uri": "https://localhost:8080/",
          "height": 142
        }
      },
      "source": [
        "datall['Cost Group'].value_counts(sort=False)\n",
        "# datall.hist(column=\"Cost Group\")"
      ],
      "execution_count": 0,
      "outputs": [
        {
          "output_type": "execute_result",
          "data": {
            "text/plain": [
              "1    21760\n",
              "2      232\n",
              "3       12\n",
              "4       35\n",
              "5       37\n",
              "6       86\n",
              "Name: Cost Group, dtype: int64"
            ]
          },
          "metadata": {
            "tags": []
          },
          "execution_count": 125
        }
      ]
    },
    {
      "cell_type": "code",
      "metadata": {
        "id": "16jJe8Enyh_t",
        "colab_type": "code",
        "colab": {}
      },
      "source": [
        "# datall['Cost Group'].value_counts(normalize=True)"
      ],
      "execution_count": 0,
      "outputs": []
    },
    {
      "cell_type": "code",
      "metadata": {
        "id": "81wfD8II5GZX",
        "colab_type": "code",
        "outputId": "71af8525-a904-4736-c4e9-ec6aa885d8b1",
        "colab": {
          "base_uri": "https://localhost:8080/",
          "height": 178
        }
      },
      "source": [
        "def databinning(namakolom, jumlahbin):\n",
        "  datanya = []\n",
        "\n",
        "  for d in datall[namakolom]:\n",
        "      datanya.append(d)\n",
        "      # arr_tvr.append(int(round(d)))\n",
        "\n",
        "  print(len(datanya))\n",
        "\n",
        "  datanya = np.sort(datanya)\n",
        "  # datanya = datanya.sort()\n",
        "  print(datanya)\n",
        "  de = 0\n",
        "\n",
        "  for i in range(0,len(datanya),int(len(datanya)/jumlahbin)):\n",
        "    mean = 0  \n",
        "    for j in range (0,int(len(datanya)/jumlahbin),1) :\n",
        "      mean = mean + datanya[i+j]\n",
        "    de = de + 1\n",
        "    print(\"Bin \" + str(de) + \" Batas bawah \" + str(i) + \" Batas atas \" + str(i+(datanya.size/jumlahbin)) + \" Mean \" + str(mean/((datanya.size/jumlahbin))))\n",
        "\n",
        "databinning('Cost',6)\n",
        "print(\"Nilai paling tinggi = \" + str(max(datall['Cost'])))"
      ],
      "execution_count": 0,
      "outputs": [
        {
          "output_type": "stream",
          "text": [
            "22218\n",
            "[1.0e-01 1.0e-01 1.0e-01 ... 2.2e+06 2.5e+06 3.0e+06]\n",
            "Bin 1 Batas bawah 0 Batas atas 3703.0 Mean 12993.137358898182\n",
            "Bin 2 Batas bawah 3703 Batas atas 7406.0 Mean 21368.02425060757\n",
            "Bin 3 Batas bawah 7406 Batas atas 11109.0 Mean 28855.056926816233\n",
            "Bin 4 Batas bawah 11109 Batas atas 14812.0 Mean 38753.759708344565\n",
            "Bin 5 Batas bawah 14812 Batas atas 18515.0 Mean 50212.39505806108\n",
            "Bin 6 Batas bawah 18515 Batas atas 22218.0 Mean 93601.35673778021\n",
            "Nilai paling tinggi = 3000000.0\n"
          ],
          "name": "stdout"
        }
      ]
    },
    {
      "cell_type": "code",
      "metadata": {
        "id": "M96HrJKb41QU",
        "colab_type": "code",
        "outputId": "520b2309-12f2-471e-e7bb-8868741ebf1f",
        "colab": {
          "base_uri": "https://localhost:8080/",
          "height": 214
        }
      },
      "source": [
        "databincost = pd.cut(datall['Cost'], bins=[0,5000,10000,15000,20000,25000,30000,35000,40000,45000,300000],\n",
        "                     labels=[int(1),int(2),int(3),int(4),int(5),int(6),int(7),int(8),int(9),int(10)])\n",
        "if  'Cost Group' in datall.columns:\n",
        "  datall = datall.drop('Cost Group',1)\n",
        "\n",
        "datall.insert(5,'Cost Group',databincost)\n",
        "datall['Cost Group'].value_counts(sort=False)"
      ],
      "execution_count": 0,
      "outputs": [
        {
          "output_type": "execute_result",
          "data": {
            "text/plain": [
              "1      245\n",
              "2      375\n",
              "3     1813\n",
              "4     3252\n",
              "5      974\n",
              "6     3469\n",
              "7     1382\n",
              "8     2221\n",
              "9     1472\n",
              "10    6832\n",
              "Name: Cost Group, dtype: int64"
            ]
          },
          "metadata": {
            "tags": []
          },
          "execution_count": 121
        }
      ]
    },
    {
      "cell_type": "code",
      "metadata": {
        "id": "SOQGE0c25CdD",
        "colab_type": "code",
        "outputId": "5b390224-25a2-4cac-90ee-fadd00a7ea37",
        "colab": {
          "base_uri": "https://localhost:8080/",
          "height": 206
        }
      },
      "source": [
        "# datall['Cost Group'].value_counts()\n",
        "datall.head()"
      ],
      "execution_count": 0,
      "outputs": [
        {
          "output_type": "execute_result",
          "data": {
            "text/html": [
              "<div>\n",
              "<style scoped>\n",
              "    .dataframe tbody tr th:only-of-type {\n",
              "        vertical-align: middle;\n",
              "    }\n",
              "\n",
              "    .dataframe tbody tr th {\n",
              "        vertical-align: top;\n",
              "    }\n",
              "\n",
              "    .dataframe thead th {\n",
              "        text-align: right;\n",
              "    }\n",
              "</style>\n",
              "<table border=\"1\" class=\"dataframe\">\n",
              "  <thead>\n",
              "    <tr style=\"text-align: right;\">\n",
              "      <th></th>\n",
              "      <th>Date</th>\n",
              "      <th>Channel</th>\n",
              "      <th>Program</th>\n",
              "      <th>Product</th>\n",
              "      <th>Ads Type</th>\n",
              "      <th>Start Time</th>\n",
              "      <th>Duration</th>\n",
              "      <th>Cost</th>\n",
              "      <th>TVR</th>\n",
              "      <th>TVR (Round)</th>\n",
              "    </tr>\n",
              "  </thead>\n",
              "  <tbody>\n",
              "    <tr>\n",
              "      <th>0</th>\n",
              "      <td>2019-01-10 00:00:00</td>\n",
              "      <td>ANTV</td>\n",
              "      <td>ISHQ MEIN MARJAWAN</td>\n",
              "      <td>POP MIE - INSTANT NOODLE</td>\n",
              "      <td>TEMPLATE</td>\n",
              "      <td>13:12:48</td>\n",
              "      <td>00:00:11</td>\n",
              "      <td>36000.0</td>\n",
              "      <td>1.70</td>\n",
              "      <td>2</td>\n",
              "    </tr>\n",
              "    <tr>\n",
              "      <th>1</th>\n",
              "      <td>2019-01-10 00:00:00</td>\n",
              "      <td>ANTV</td>\n",
              "      <td>ISHQ MEIN MARJAWAN</td>\n",
              "      <td>POP MIE - INSTANT NOODLE</td>\n",
              "      <td>VIRTUAL ADS</td>\n",
              "      <td>13:12:49</td>\n",
              "      <td>00:00:08</td>\n",
              "      <td>25159.0</td>\n",
              "      <td>1.70</td>\n",
              "      <td>2</td>\n",
              "    </tr>\n",
              "    <tr>\n",
              "      <th>2</th>\n",
              "      <td>2019-01-10 00:00:00</td>\n",
              "      <td>MNCTV</td>\n",
              "      <td>UPIN &amp; IPIN BERMULA</td>\n",
              "      <td>SUPER BUBUR - INSTANT PORRIDGE</td>\n",
              "      <td>SQUEEZE FRAME</td>\n",
              "      <td>18:38:41</td>\n",
              "      <td>00:00:24</td>\n",
              "      <td>63000.0</td>\n",
              "      <td>1.70</td>\n",
              "      <td>2</td>\n",
              "    </tr>\n",
              "    <tr>\n",
              "      <th>3</th>\n",
              "      <td>2019-01-10 00:00:00</td>\n",
              "      <td>MNCTV</td>\n",
              "      <td>FATIH DI KAMPUNG JAWARA 2</td>\n",
              "      <td>MIGELAS JUMBO - INSTANT NOODLE</td>\n",
              "      <td>BUILT IN SEGMEN</td>\n",
              "      <td>20:14:43</td>\n",
              "      <td>00:02:30</td>\n",
              "      <td>325000.0</td>\n",
              "      <td>1.15</td>\n",
              "      <td>1</td>\n",
              "    </tr>\n",
              "    <tr>\n",
              "      <th>4</th>\n",
              "      <td>2019-01-10 00:00:00</td>\n",
              "      <td>RCTI</td>\n",
              "      <td>OGAH RUGI</td>\n",
              "      <td>POP MIE - INSTANT NOODLE</td>\n",
              "      <td>VIRTUAL ADS</td>\n",
              "      <td>15:14:21</td>\n",
              "      <td>00:00:15</td>\n",
              "      <td>48000.0</td>\n",
              "      <td>1.40</td>\n",
              "      <td>1</td>\n",
              "    </tr>\n",
              "  </tbody>\n",
              "</table>\n",
              "</div>"
            ],
            "text/plain": [
              "                  Date Channel  ...   TVR TVR (Round)\n",
              "0  2019-01-10 00:00:00    ANTV  ...  1.70           2\n",
              "1  2019-01-10 00:00:00    ANTV  ...  1.70           2\n",
              "2  2019-01-10 00:00:00   MNCTV  ...  1.70           2\n",
              "3  2019-01-10 00:00:00   MNCTV  ...  1.15           1\n",
              "4  2019-01-10 00:00:00    RCTI  ...  1.40           1\n",
              "\n",
              "[5 rows x 10 columns]"
            ]
          },
          "metadata": {
            "tags": []
          },
          "execution_count": 7
        }
      ]
    },
    {
      "cell_type": "code",
      "metadata": {
        "id": "nIGGO03dLS2K",
        "colab_type": "code",
        "colab": {}
      },
      "source": [
        "def equifreq(arr1, m): \n",
        "    # Binning by Frequency/Means\n",
        "    a = len(arr1)\n",
        "    arr1 = np.sort(arr1) \n",
        "    n = int(a / m) \n",
        "    databin = []\n",
        "    for i in range(0, m): \n",
        "        arr = [] \n",
        "        for j in range(i * n, (i + 1) * n): \n",
        "            if j >= a: \n",
        "                break\n",
        "            arr = arr + [arr1[j]] \n",
        "        # print(arr) \n",
        "        print(f'Total {len(arr)}')\n",
        "        print(f'Sum of all the elements is {np.sum(arr)}')\n",
        "        print(\"mean of arr : \", np.mean(arr))\n",
        "\n",
        "def firstcheck(datacost):\n",
        "  print(\"Cek first condition\")\n",
        "  cek = 0\n",
        "  cektotal = 0\n",
        "  datacost = np.sort(datacost)\n",
        "  for i in range(0,3703,1):\n",
        "    cek = cek + datacost[i]\n",
        "    cektotal = cektotal + 1\n",
        "  print(\"Frequency data = \" + str(cektotal))\n",
        "  print(\"Sum of data = \" + str(cek))\n",
        "  print(\"Mean of data = \" + str(cek/3703))\n",
        "\n",
        "def readdata(namakolom):\n",
        "  datanya = []\n",
        "  for d in datall[namakolom]:\n",
        "    datanya.append(d)\n",
        "  return datanya"
      ],
      "execution_count": 0,
      "outputs": []
    },
    {
      "cell_type": "code",
      "metadata": {
        "id": "fKkgWneIXjMq",
        "colab_type": "code",
        "outputId": "efa04655-d7f0-4443-de98-3dc3bb8d21bb",
        "colab": {
          "base_uri": "https://localhost:8080/",
          "height": 410
        }
      },
      "source": [
        "equifreq(readdata('Cost'), 6) \n",
        "firstcheck(readdata('Cost'))"
      ],
      "execution_count": 0,
      "outputs": [
        {
          "output_type": "stream",
          "text": [
            "Total 3703\n",
            "Sum of all the elements is 48113587.64\n",
            "mean of arr :  12993.137358898191\n",
            "Total 3703\n",
            "Sum of all the elements is 79125793.8\n",
            "mean of arr :  21368.024250607614\n",
            "Total 3703\n",
            "Sum of all the elements is 106850275.80000001\n",
            "mean of arr :  28855.056926816098\n",
            "Total 3703\n",
            "Sum of all the elements is 143505172.2\n",
            "mean of arr :  38753.75970834458\n",
            "Total 3703\n",
            "Sum of all the elements is 185936498.89999998\n",
            "mean of arr :  50212.395058061025\n",
            "Total 3703\n",
            "Sum of all the elements is 346605824.0\n",
            "mean of arr :  93601.35673778018\n",
            "Cek first condition\n",
            "Frequency data = 3703\n",
            "Sum of data = 48113587.63999997\n",
            "Mean of data = 12993.137358898182\n"
          ],
          "name": "stdout"
        }
      ]
    },
    {
      "cell_type": "code",
      "metadata": {
        "id": "2P9MjIYIXzP2",
        "colab_type": "code",
        "outputId": "85fab341-cd41-4d71-a16d-b776725d40d6",
        "colab": {
          "base_uri": "https://localhost:8080/",
          "height": 410
        }
      },
      "source": [
        "equifreq(readdata('TVR'), 6) \n",
        "firstcheck(readdata('TVR'))"
      ],
      "execution_count": 0,
      "outputs": [
        {
          "output_type": "stream",
          "text": [
            "Total 3703\n",
            "Sum of all the elements is 1206.65\n",
            "mean of arr :  0.3258574129084526\n",
            "Total 3703\n",
            "Sum of all the elements is 3961.6500000000005\n",
            "mean of arr :  1.0698487712665408\n",
            "Total 3703\n",
            "Sum of all the elements is 5490.2\n",
            "mean of arr :  1.4826357007831488\n",
            "Total 3703\n",
            "Sum of all the elements is 7019.25\n",
            "mean of arr :  1.8955576559546314\n",
            "Total 3703\n",
            "Sum of all the elements is 9381.45\n",
            "mean of arr :  2.5334728598433705\n",
            "Total 3703\n",
            "Sum of all the elements is 14498.75\n",
            "mean of arr :  3.915406427221172\n",
            "Cek first condition\n",
            "Frequency data = 3703\n",
            "Sum of data = 1206.6500000000044\n",
            "Mean of data = 0.32585741290845377\n"
          ],
          "name": "stdout"
        }
      ]
    },
    {
      "cell_type": "code",
      "metadata": {
        "id": "e3St596AcdSE",
        "colab_type": "code",
        "outputId": "e73e545b-c5f2-4db1-dc53-a90bab754089",
        "colab": {
          "base_uri": "https://localhost:8080/",
          "height": 410
        }
      },
      "source": [
        "equifreq(readdata('TVR (Round)'), 6) \n",
        "firstcheck(readdata('TVR (Round)'))"
      ],
      "execution_count": 0,
      "outputs": [
        {
          "output_type": "stream",
          "text": [
            "Total 3703\n",
            "Sum of all the elements is 855\n",
            "mean of arr :  0.0\n",
            "Total 3703\n",
            "Sum of all the elements is 3703\n",
            "mean of arr :  1.0\n",
            "Total 3703\n",
            "Sum of all the elements is 5837\n",
            "mean of arr :  2.0\n",
            "Total 3703\n",
            "Sum of all the elements is 7406\n",
            "mean of arr :  2.0\n",
            "Total 3703\n",
            "Sum of all the elements is 9127\n",
            "mean of arr :  2.0\n",
            "Total 3703\n",
            "Sum of all the elements is 14451\n",
            "mean of arr :  4.0\n",
            "Cek first condition\n",
            "Frequency data = 3703\n",
            "Sum of data = 855\n",
            "Mean of data = 0.0\n"
          ],
          "name": "stdout"
        }
      ]
    },
    {
      "cell_type": "code",
      "metadata": {
        "id": "bHGO4GVXdVvL",
        "colab_type": "code",
        "outputId": "902b217e-6942-4eb8-f6b0-17406f5251fe",
        "colab": {
          "base_uri": "https://localhost:8080/",
          "height": 178
        }
      },
      "source": [
        "# Cek Algoritma sesuai tutorial\n",
        "# https://www.geeksforgeeks.org/python-binning-method-for-data-smoothing/\n",
        "equifreq([4, 8, 9, 15, 21, 21, 24, 25, 26, 28, 29, 34],3)"
      ],
      "execution_count": 0,
      "outputs": [
        {
          "output_type": "stream",
          "text": [
            "Total 4\n",
            "Sum of all the elements is 36\n",
            "mean of arr :  9.0\n",
            "Total 4\n",
            "Sum of all the elements is 91\n",
            "mean of arr :  23.0\n",
            "Total 4\n",
            "Sum of all the elements is 117\n",
            "mean of arr :  29.0\n"
          ],
          "name": "stdout"
        }
      ]
    },
    {
      "cell_type": "code",
      "metadata": {
        "id": "WTwIWzLNe3Ku",
        "colab_type": "code",
        "colab": {}
      },
      "source": [
        ""
      ],
      "execution_count": 0,
      "outputs": []
    }
  ]
}